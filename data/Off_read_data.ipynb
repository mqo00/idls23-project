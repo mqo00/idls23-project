{
  "nbformat": 4,
  "nbformat_minor": 0,
  "metadata": {
    "colab": {
      "provenance": []
    },
    "kernelspec": {
      "name": "python3",
      "display_name": "Python 3"
    },
    "language_info": {
      "name": "python"
    }
  },
  "cells": [
    {
      "cell_type": "code",
      "source": [
        "import json\n",
        "import pandas as pd"
      ],
      "metadata": {
        "id": "Ki1UnQSgUhRN"
      },
      "execution_count": 1,
      "outputs": []
    },
    {
      "cell_type": "code",
      "execution_count": 2,
      "metadata": {
        "colab": {
          "base_uri": "https://localhost:8080/"
        },
        "id": "aleLjSIhTe_0",
        "outputId": "d466c383-d94a-45ee-a5b5-dbd7d4ffb2dc"
      },
      "outputs": [
        {
          "output_type": "stream",
          "name": "stdout",
          "text": [
            "Drive already mounted at /content/drive; to attempt to forcibly remount, call drive.mount(\"/content/drive\", force_remount=True).\n"
          ]
        }
      ],
      "source": [
        "from google.colab import drive\n",
        "drive.mount('/content/drive')"
      ]
    },
    {
      "cell_type": "code",
      "source": [
        "#Path\n",
        "path_2020s = '/content/drive/MyDrive/11785_project/data/2020S/contributions.csv'\n",
        "path_2020f = '/content/drive/MyDrive/11785_project/data/2020F/contributions.csv'\n",
        "path_2021s = '/content/drive/MyDrive/11785_project/data/2021S/contributions.csv'\n",
        "path_2021f = '/content/drive/MyDrive/11785_project/data/2021F/contributions.csv'\n",
        "path_2022s = '/content/drive/MyDrive/11785_project/data/2022S/contributions.csv'\n",
        "path_2022f = '/content/drive/MyDrive/11785_project/data/2022F/contributions.csv'"
      ],
      "metadata": {
        "id": "hNrbDz4RT-yx"
      },
      "execution_count": 3,
      "outputs": []
    },
    {
      "cell_type": "code",
      "source": [
        "#read files\n",
        "df_2020s = pd.read_csv(path_2020s)\n",
        "df_2020f = pd.read_csv(path_2020f)\n",
        "df_2021s = pd.read_csv(path_2021s)\n",
        "df_2021f = pd.read_csv(path_2021f)\n",
        "df_2022s = pd.read_csv(path_2022s)\n",
        "df_2022f = pd.read_csv(path_2022f)"
      ],
      "metadata": {
        "id": "DScj8sP2Ejp9"
      },
      "execution_count": 4,
      "outputs": []
    },
    {
      "cell_type": "code",
      "source": [
        "## 2020 data\n",
        "print('2020s', df_2020s.loc[:,\"Part of Post\"].value_counts())\n",
        "print('2020f', df_2020f.loc[:,\"Part of Post\"].value_counts())"
      ],
      "metadata": {
        "colab": {
          "base_uri": "https://localhost:8080/"
        },
        "id": "5iHs0Vk_EjyV",
        "outputId": "091e1907-3bff-4fac-c9ee-024777e3dbc4"
      },
      "execution_count": 5,
      "outputs": [
        {
          "output_type": "stream",
          "name": "stdout",
          "text": [
            "2020s reply_to_followup       9999\n",
            "followup                4178\n",
            "started_off_question    1638\n",
            "started_off_i_answer    1588\n",
            "updated_note            1151\n",
            "started_off_note         467\n",
            "updated_question         465\n",
            "updated_i_answer         395\n",
            "started_off_s_answer     172\n",
            "updated_s_answer          80\n",
            "started_off_poll           2\n",
            "updated_poll               1\n",
            "Name: Part of Post, dtype: int64\n",
            "2020f reply_to_followup       20087\n",
            "followup                 5730\n",
            "started_off_question     1984\n",
            "started_off_i_answer     1946\n",
            "updated_note             1658\n",
            "updated_question         1003\n",
            "updated_i_answer          634\n",
            "started_off_note          515\n",
            "started_off_s_answer      122\n",
            "updated_s_answer           25\n",
            "updated_poll               22\n",
            "started_off_poll            4\n",
            "Name: Part of Post, dtype: int64\n"
          ]
        }
      ]
    },
    {
      "cell_type": "code",
      "source": [
        "## 2021 data\n",
        "print('2021s', df_2021s.loc[:,\"Part of Post\"].value_counts())\n",
        "print('2021f', df_2021f.loc[:,\"Part of Post\"].value_counts())"
      ],
      "metadata": {
        "id": "JtjQX6ngXNLd",
        "colab": {
          "base_uri": "https://localhost:8080/"
        },
        "outputId": "65c87644-df81-461c-810f-f62460f3c233"
      },
      "execution_count": 6,
      "outputs": [
        {
          "output_type": "stream",
          "name": "stdout",
          "text": [
            "2021s reply_to_followup       9866\n",
            "followup                3545\n",
            "started_off_question    1252\n",
            "started_off_i_answer    1196\n",
            "updated_note            1152\n",
            "updated_question         506\n",
            "started_off_note         388\n",
            "updated_i_answer         333\n",
            "started_off_s_answer     109\n",
            "updated_s_answer          37\n",
            "updated_poll               3\n",
            "started_off_poll           3\n",
            "Name: Part of Post, dtype: int64\n",
            "2021f reply_to_followup       9968\n",
            "followup                3689\n",
            "started_off_question    1736\n",
            "started_off_i_answer    1683\n",
            "updated_note             932\n",
            "updated_question         526\n",
            "started_off_note         479\n",
            "updated_i_answer         390\n",
            "started_off_poll         140\n",
            "started_off_s_answer     127\n",
            "updated_poll             101\n",
            "updated_s_answer          30\n",
            "Name: Part of Post, dtype: int64\n"
          ]
        }
      ]
    },
    {
      "cell_type": "code",
      "source": [
        "## 2022 data\n",
        "print('2022s', df_2022s.loc[:,\"Part of Post\"].value_counts())\n",
        "print('2022f', df_2022f.loc[:,\"Part of Post\"].value_counts())"
      ],
      "metadata": {
        "id": "nTOJ6bFdlMZ4",
        "colab": {
          "base_uri": "https://localhost:8080/"
        },
        "outputId": "3c98e0fd-2525-4e17-d7aa-c6b5e4d10d9a"
      },
      "execution_count": 7,
      "outputs": [
        {
          "output_type": "stream",
          "name": "stdout",
          "text": [
            "2022s reply_to_followup       14927\n",
            "followup                 6118\n",
            "started_off_question     2122\n",
            "started_off_i_answer     2070\n",
            "updated_note             1493\n",
            "updated_question          619\n",
            "started_off_note          599\n",
            "updated_i_answer          536\n",
            "updated_poll              162\n",
            "started_off_s_answer      154\n",
            "started_off_poll           67\n",
            "updated_s_answer           48\n",
            "Name: Part of Post, dtype: int64\n",
            "2022f reply_to_followup       8004\n",
            "followup                3761\n",
            "updated_note            1513\n",
            "started_off_question    1508\n",
            "started_off_i_answer    1485\n",
            "started_off_note         560\n",
            "updated_i_answer         509\n",
            "updated_question         382\n",
            "updated_poll             188\n",
            "started_off_poll         140\n",
            "started_off_s_answer     122\n",
            "updated_s_answer          33\n",
            "Name: Part of Post, dtype: int64\n"
          ]
        }
      ]
    },
    {
      "cell_type": "code",
      "source": [
        "### 2020s\n",
        "question_2020s = df_2020s.loc[df_2020s['Part of Post'] == 'started_off_question']\n",
        "ianswer_2020s = df_2020s.loc[df_2020s['Part of Post'] == 'started_off_i_answer']\n",
        "question_2020s = question_2020s[[\"Submission HTML Removed\",\"Subject\"]]\n",
        "ianswer_2020s = ianswer_2020s[[\"Submission HTML Removed\",\"Subject\"]]\n",
        "### 2020f\n",
        "question_2020f = df_2020f.loc[df_2020f['Part of Post'] == 'started_off_question']\n",
        "ianswer_2020f = df_2020f.loc[df_2020f['Part of Post'] == 'started_off_i_answer']\n",
        "question_2020f = question_2020f[[\"Submission HTML Removed\",\"Subject\"]]\n",
        "ianswer_2020f = ianswer_2020f[[\"Submission HTML Removed\",\"Subject\"]]"
      ],
      "metadata": {
        "id": "6Bj8laRFEj0-"
      },
      "execution_count": 8,
      "outputs": []
    },
    {
      "cell_type": "code",
      "source": [
        "### 2021s\n",
        "question_2021s = df_2021s.loc[df_2021s['Part of Post'] == 'started_off_question']\n",
        "ianswer_2021s = df_2021s.loc[df_2021s['Part of Post'] == 'started_off_i_answer']\n",
        "question_2021s = question_2021s[[\"Submission HTML Removed\",\"Subject\"]]\n",
        "ianswer_2021s = ianswer_2021s[[\"Submission HTML Removed\",\"Subject\"]]\n",
        "### 2021f\n",
        "question_2021f = df_2021f.loc[df_2021f['Part of Post'] == 'started_off_question']\n",
        "ianswer_2021f = df_2021f.loc[df_2021f['Part of Post'] == 'started_off_i_answer']\n",
        "question_2021f = question_2021f[[\"Submission HTML Removed\",\"Subject\"]]\n",
        "ianswer_2021f = ianswer_2021f[[\"Submission HTML Removed\",\"Subject\"]]"
      ],
      "metadata": {
        "id": "nc5YmnUHEj4B"
      },
      "execution_count": 9,
      "outputs": []
    },
    {
      "cell_type": "code",
      "source": [
        "### 2022s\n",
        "question_2022s = df_2022s.loc[df_2022s['Part of Post'] == 'started_off_question']\n",
        "ianswer_2022s = df_2022s.loc[df_2022s['Part of Post'] == 'started_off_i_answer']\n",
        "question_2022s = question_2022s[[\"Submission HTML Removed\",\"Subject\"]]\n",
        "ianswer_2022s = ianswer_2022s[[\"Submission HTML Removed\",\"Subject\"]]\n",
        "### 2022f\n",
        "question_2022f = df_2022f.loc[df_2022f['Part of Post'] == 'started_off_question']\n",
        "ianswer_2022f = df_2022f.loc[df_2022f['Part of Post'] == 'started_off_i_answer']\n",
        "question_2022f = question_2022f[[\"Submission HTML Removed\",\"Subject\"]]\n",
        "ianswer_2022f = ianswer_2022f[[\"Submission HTML Removed\",\"Subject\"]]"
      ],
      "metadata": {
        "id": "606XU5L1Ej6u"
      },
      "execution_count": 10,
      "outputs": []
    },
    {
      "cell_type": "code",
      "source": [
        "question_2020s_list = question_2020s.values.tolist()\n",
        "ianswer_2020s_list = ianswer_2020s.values.tolist()\n",
        "question_2020f_list = question_2020f.values.tolist()\n",
        "ianswer_2020f_list = ianswer_2020f.values.tolist()\n",
        "question_2021s_list = question_2021s.values.tolist()\n",
        "ianswer_2021s_list = ianswer_2021s.values.tolist()\n",
        "question_2021f_list = question_2021f.values.tolist()\n",
        "ianswer_2021f_list = ianswer_2021f.values.tolist()\n",
        "question_2022s_list = question_2022s.values.tolist()\n",
        "ianswer_2022s_list = ianswer_2022s.values.tolist()\n",
        "question_2022f_list = question_2022f.values.tolist()\n",
        "ianswer_2022f_list = ianswer_2022f.values.tolist()"
      ],
      "metadata": {
        "id": "5-89vZUfKk1O"
      },
      "execution_count": 11,
      "outputs": []
    },
    {
      "cell_type": "code",
      "source": [
        "# 2020s\n",
        "while len(question_2020s_list) != len(ianswer_2020s_list):\n",
        "  question_copy = question_2020s_list.copy()\n",
        "  for i in range(len(ianswer_2020s_list)):\n",
        "    if ianswer_2020s_list[i][1] != question_copy[i][1]:\n",
        "      del question_2020s_list[i]\n",
        "      break"
      ],
      "metadata": {
        "id": "PNoGJ39_Kk4M"
      },
      "execution_count": 12,
      "outputs": []
    },
    {
      "cell_type": "code",
      "source": [
        "# 2020f\n",
        "while len(question_2020f_list) != len(ianswer_2020f_list):\n",
        "  question_copy = question_2020f_list.copy()\n",
        "  for i in range(len(ianswer_2020f_list)):\n",
        "    if ianswer_2020f_list[i][1] != question_copy[i][1]:\n",
        "      del question_2020f_list[i]\n",
        "      break"
      ],
      "metadata": {
        "id": "sW3umY9qKk7F"
      },
      "execution_count": 13,
      "outputs": []
    },
    {
      "cell_type": "code",
      "source": [
        "# 2021s\n",
        "while len(question_2021s_list) != len(ianswer_2021s_list):\n",
        "  question_copy = question_2021s_list.copy()\n",
        "  for i in range(len(ianswer_2021s_list)):\n",
        "    if ianswer_2021s_list[i][1] != question_copy[i][1]:\n",
        "      del question_2021s_list[i]\n",
        "      break"
      ],
      "metadata": {
        "id": "IxGkdicMKk99"
      },
      "execution_count": 14,
      "outputs": []
    },
    {
      "cell_type": "code",
      "source": [
        "# 2021f\n",
        "while len(question_2021f_list) != len(ianswer_2021f_list):\n",
        "  question_copy = question_2021f_list.copy()\n",
        "  for i in range(len(ianswer_2021f_list)):\n",
        "    if ianswer_2021f_list[i][1] != question_copy[i][1]:\n",
        "      del question_2021f_list[i]\n",
        "      break"
      ],
      "metadata": {
        "id": "mx9JNhIv_JOe"
      },
      "execution_count": 15,
      "outputs": []
    },
    {
      "cell_type": "code",
      "source": [
        "# 2022s\n",
        "while len(question_2022s_list) != len(ianswer_2022s_list):\n",
        "  question_copy = question_2022s_list.copy()\n",
        "  for i in range(len(ianswer_2022s_list)):\n",
        "    if ianswer_2022s_list[i][1] != question_copy[i][1]:\n",
        "      del question_2022s_list[i]\n",
        "      break"
      ],
      "metadata": {
        "id": "hlK-6eiQ_JRb"
      },
      "execution_count": 16,
      "outputs": []
    },
    {
      "cell_type": "code",
      "source": [
        "# 2022f\n",
        "while len(question_2022f_list) != len(ianswer_2022f_list):\n",
        "  question_copy = question_2022f_list.copy()\n",
        "  for i in range(len(ianswer_2022f_list)):\n",
        "    if ianswer_2022f_list[i][1] != question_copy[i][1]:\n",
        "      del question_2022f_list[i]\n",
        "      break"
      ],
      "metadata": {
        "id": "XKJuJyMk_JUi"
      },
      "execution_count": 17,
      "outputs": []
    },
    {
      "cell_type": "code",
      "source": [
        "dataset = []"
      ],
      "metadata": {
        "id": "Kt69BFGuKlAV"
      },
      "execution_count": 18,
      "outputs": []
    },
    {
      "cell_type": "code",
      "source": [
        "for i in range(len(question_2020s_list)):\n",
        "  pair = []\n",
        "  pair.append(question_2020s_list[i][1])\n",
        "  pair.append(question_2020s_list[i][0])\n",
        "  pair.append(ianswer_2020s_list[i][0])\n",
        "  dataset.append(pair)\n",
        "\n",
        "for i in range(len(question_2020f_list)):\n",
        "  pair = []\n",
        "  pair.append(question_2020f_list[i][1])\n",
        "  pair.append(question_2020f_list[i][0])\n",
        "  pair.append(ianswer_2020f_list[i][0])\n",
        "  dataset.append(pair)"
      ],
      "metadata": {
        "id": "TRxFt2el_JX0"
      },
      "execution_count": 19,
      "outputs": []
    },
    {
      "cell_type": "code",
      "source": [
        "for i in range(len(question_2021s_list)):\n",
        "  pair = []\n",
        "  pair.append(question_2021s_list[i][1])\n",
        "  pair.append(question_2021s_list[i][0])\n",
        "  pair.append(ianswer_2021s_list[i][0])\n",
        "  dataset.append(pair)\n",
        "\n",
        "for i in range(len(question_2021f_list)):\n",
        "  pair = []\n",
        "  pair.append(question_2021f_list[i][1])\n",
        "  pair.append(question_2021f_list[i][0])\n",
        "  pair.append(ianswer_2021f_list[i][0])\n",
        "  dataset.append(pair)"
      ],
      "metadata": {
        "id": "NgRbe9f0_Jaq"
      },
      "execution_count": 20,
      "outputs": []
    },
    {
      "cell_type": "code",
      "source": [
        "for i in range(len(question_2022s_list)):\n",
        "  pair = []\n",
        "  pair.append(question_2022s_list[i][1])\n",
        "  pair.append(question_2022s_list[i][0])\n",
        "  pair.append(ianswer_2022s_list[i][0])\n",
        "  dataset.append(pair)\n",
        "\n",
        "for i in range(len(question_2022f_list)):\n",
        "  pair = []\n",
        "  pair.append(question_2022f_list[i][1])\n",
        "  pair.append(question_2022f_list[i][0])\n",
        "  pair.append(ianswer_2022f_list[i][0])\n",
        "  dataset.append(pair)"
      ],
      "metadata": {
        "id": "-hEgaMmt_Jdz"
      },
      "execution_count": 21,
      "outputs": []
    },
    {
      "cell_type": "code",
      "source": [
        "index0,index1,index2 = [],[],[]"
      ],
      "metadata": {
        "id": "Bk-8TN_pCzfa"
      },
      "execution_count": 22,
      "outputs": []
    },
    {
      "cell_type": "code",
      "source": [
        "for i in range(len(dataset)):\n",
        "  if type(dataset[i][0]) == float:\n",
        "    index0.append(i)"
      ],
      "metadata": {
        "id": "lEUvUkr2Cziw"
      },
      "execution_count": 23,
      "outputs": []
    },
    {
      "cell_type": "code",
      "source": [
        "for i in range(len(index0)):\n",
        "  idx = index0[i] - i\n",
        "  del dataset[idx]"
      ],
      "metadata": {
        "id": "6sZPpfuUCzl_"
      },
      "execution_count": 24,
      "outputs": []
    },
    {
      "cell_type": "code",
      "source": [
        "for i in range(len(dataset)):\n",
        "  if type(dataset[i][1]) == float:\n",
        "    index1.append(i)"
      ],
      "metadata": {
        "id": "z-WTdU3SFT5U"
      },
      "execution_count": 25,
      "outputs": []
    },
    {
      "cell_type": "code",
      "source": [
        "for i in range(len(index1)):\n",
        "  idx = index1[i] - i\n",
        "  del dataset[idx]"
      ],
      "metadata": {
        "id": "LacnFTZnCzpC"
      },
      "execution_count": 26,
      "outputs": []
    },
    {
      "cell_type": "code",
      "source": [
        "for i in range(len(dataset)):\n",
        "  if type(dataset[i][2]) == float:\n",
        "    index2.append(i)"
      ],
      "metadata": {
        "id": "t6ui_MtzFYjh"
      },
      "execution_count": 27,
      "outputs": []
    },
    {
      "cell_type": "code",
      "source": [
        "for i in range(len(index2)):\n",
        "  idx = index2[i] - i\n",
        "  del dataset[idx]"
      ],
      "metadata": {
        "id": "7uZwmQr9Czr3"
      },
      "execution_count": 28,
      "outputs": []
    },
    {
      "cell_type": "code",
      "source": [
        "for i in range(len(dataset)):\n",
        "  for j in range(len(dataset[i])):\n",
        "    dataset[i][j] = ' '.join(dataset[i][j].split('\\n'))\n",
        "    dataset[i][j] = ' '.join(dataset[i][j].split('\\t'))\n",
        "    dataset[i][j] = ' '.join(dataset[i][j].split('\\xa0'))"
      ],
      "metadata": {
        "id": "7MfCTyHcDmO3"
      },
      "execution_count": 29,
      "outputs": []
    },
    {
      "cell_type": "code",
      "source": [
        "len(dataset)"
      ],
      "metadata": {
        "colab": {
          "base_uri": "https://localhost:8080/"
        },
        "id": "FHX1ULvS5WIp",
        "outputId": "6db8962e-ffa4-4fde-88cb-ac8686ae3a68"
      },
      "execution_count": 30,
      "outputs": [
        {
          "output_type": "execute_result",
          "data": {
            "text/plain": [
              "9900"
            ]
          },
          "metadata": {},
          "execution_count": 30
        }
      ]
    },
    {
      "cell_type": "code",
      "source": [
        "x_data1 = []\n",
        "x_data2 = []\n",
        "x_data = []\n",
        "y_data = []\n",
        "for i in range(len(dataset)):\n",
        "  x_data1.append(dataset[i][0])\n",
        "  x_data2.append(dataset[i][1])\n",
        "  x_data.append(dataset[i][0] + ' ' + dataset[i][1])\n",
        "  y_data.append(dataset[i][2])"
      ],
      "metadata": {
        "id": "bGbDOWechMUo"
      },
      "execution_count": 31,
      "outputs": []
    },
    {
      "cell_type": "code",
      "source": [
        "len(x_data1),len(x_data2),len(x_data), len(y_data)"
      ],
      "metadata": {
        "colab": {
          "base_uri": "https://localhost:8080/"
        },
        "id": "xMuLhs1SCMF9",
        "outputId": "cc634e84-17cf-4fae-e2bd-b4aa5101dbd0"
      },
      "execution_count": 32,
      "outputs": [
        {
          "output_type": "execute_result",
          "data": {
            "text/plain": [
              "(9900, 9900, 9900, 9900)"
            ]
          },
          "metadata": {},
          "execution_count": 32
        }
      ]
    },
    {
      "cell_type": "code",
      "source": [
        "from sklearn.model_selection import train_test_split"
      ],
      "metadata": {
        "id": "Gppd_f41hMXn"
      },
      "execution_count": 33,
      "outputs": []
    },
    {
      "cell_type": "code",
      "source": [
        "# title\n",
        "\n",
        "x_train_t, x_test_t, y_train_t, y_test_t = train_test_split(x_data1,y_data,random_state=104, test_size=0.2, shuffle=True)\n",
        "x_train_t, x_val_t, y_train_t, y_val_t = train_test_split(x_train_t,y_train_t,random_state=104, test_size=0.2, shuffle=True)"
      ],
      "metadata": {
        "id": "7CDpbZElEj9X"
      },
      "execution_count": 38,
      "outputs": []
    },
    {
      "cell_type": "code",
      "source": [
        "len(x_train_t),len(y_train_t),len(x_test_t),len(y_test_t),len(x_val_t),len(y_val_t)"
      ],
      "metadata": {
        "colab": {
          "base_uri": "https://localhost:8080/"
        },
        "id": "pexUtaIACZ8a",
        "outputId": "9a981c9e-e6ea-44a6-9a29-d87b5a9f0c0d"
      },
      "execution_count": 39,
      "outputs": [
        {
          "output_type": "execute_result",
          "data": {
            "text/plain": [
              "(6336, 6336, 1980, 1980, 1584, 1584)"
            ]
          },
          "metadata": {},
          "execution_count": 39
        }
      ]
    },
    {
      "cell_type": "code",
      "source": [
        "with open(\"/content/drive/MyDrive/11785_project/data/naive/title/x_title_train_naive.txt\", \"w+\") as f:\n",
        "    f.write(\"question\\n\")\n",
        "    for i in range(len(x_train_t)):\n",
        "        f.write(\"{}\\n \\n\".format(x_train_t[i]))\n",
        "\n",
        "with open(\"/content/drive/MyDrive/11785_project/data/naive/title/y_title_train_naive.txt\", \"w+\") as f:\n",
        "    f.write(\"i_answers\\n\")\n",
        "    for i in range(len(y_train_t)):\n",
        "        f.write(\"{}\\n \\n\".format(y_train_t[i]))\n",
        "\n",
        "with open(\"/content/drive/MyDrive/11785_project/data/naive/title/x_title_val_naive.txt\", \"w+\") as f:\n",
        "    f.write(\"question\\n\")\n",
        "    for i in range(len(x_val_t)):\n",
        "        f.write(\"{}\\n \\n\".format(x_val_t[i]))\n",
        "\n",
        "with open(\"/content/drive/MyDrive/11785_project/data/naive/title/y_title_val_naive.txt\", \"w+\") as f:\n",
        "    f.write(\"i_answers\\n\")\n",
        "    for i in range(len(y_val_t)):\n",
        "        f.write(\"{}\\n \\n\".format(y_val_t[i]))\n",
        "\n",
        "with open(\"/content/drive/MyDrive/11785_project/data/naive/title/x_title_test_naive.txt\", \"w+\") as f:\n",
        "    f.write(\"question\\n\")\n",
        "    for i in range(len(x_test_t)):\n",
        "        f.write(\"{}\\n \\n\".format(x_test_t[i]))\n",
        "\n",
        "with open(\"/content/drive/MyDrive/11785_project/data/naive/title/y_title_test_naive.txt\", \"w+\") as f:\n",
        "    f.write(\"i_answers\\n\")\n",
        "    for i in range(len(y_test_t)):\n",
        "        f.write(\"{}\\n \\n\".format(y_test_t[i]))"
      ],
      "metadata": {
        "id": "45z2BT9Q3gVN"
      },
      "execution_count": 40,
      "outputs": []
    },
    {
      "cell_type": "code",
      "source": [
        "# body\n",
        "\n",
        "x_train_b, x_test_b, y_train_b, y_test_b = train_test_split(x_data2,y_data,random_state=104, test_size=0.2, shuffle=True)\n",
        "x_train_b, x_val_b, y_train_b, y_val_b = train_test_split(x_train_b,y_train_b,random_state=104, test_size=0.2, shuffle=True)"
      ],
      "metadata": {
        "id": "pOeecVw_3gX4"
      },
      "execution_count": 41,
      "outputs": []
    },
    {
      "cell_type": "code",
      "source": [
        "len(x_train_b),len(y_train_b),len(x_test_b),len(y_test_b),len(x_val_b),len(y_val_b)"
      ],
      "metadata": {
        "colab": {
          "base_uri": "https://localhost:8080/"
        },
        "id": "3sUtr_qqEbzh",
        "outputId": "023ab763-20eb-4824-f8ba-2c1012d476b6"
      },
      "execution_count": 42,
      "outputs": [
        {
          "output_type": "execute_result",
          "data": {
            "text/plain": [
              "(6336, 6336, 1980, 1980, 1584, 1584)"
            ]
          },
          "metadata": {},
          "execution_count": 42
        }
      ]
    },
    {
      "cell_type": "code",
      "source": [
        "with open(\"/content/drive/MyDrive/11785_project/data/naive/body/x_body_train_naive.txt\", \"w+\") as f:\n",
        "    f.write(\"question\\n\")\n",
        "    for i in range(len(x_train_b)):\n",
        "        f.write(\"{}\\n \\n\".format(x_train_b[i]))\n",
        "\n",
        "with open(\"/content/drive/MyDrive/11785_project/data/naive/body/y_body_train_naive.txt\", \"w+\") as f:\n",
        "    f.write(\"i_answers\\n\")\n",
        "    for i in range(len(y_train_b)):\n",
        "        f.write(\"{}\\n \\n\".format(y_train_b[i]))\n",
        "\n",
        "with open(\"/content/drive/MyDrive/11785_project/data/naive/body/x_body_val_naive.txt\", \"w+\") as f:\n",
        "    f.write(\"question\\n\")\n",
        "    for i in range(len(x_val_b)):\n",
        "        f.write(\"{}\\n \\n\".format(x_val_b[i]))\n",
        "\n",
        "with open(\"/content/drive/MyDrive/11785_project/data/naive/body/y_body_val_naive.txt\", \"w+\") as f:\n",
        "    f.write(\"i_answers\\n\")\n",
        "    for i in range(len(y_val_b)):\n",
        "        f.write(\"{}\\n \\n\".format(y_val_b[i]))\n",
        "\n",
        "with open(\"/content/drive/MyDrive/11785_project/data/naive/body/x_body_test_naive.txt\", \"w+\") as f:\n",
        "    f.write(\"question\\n\")\n",
        "    for i in range(len(x_test_b)):\n",
        "        f.write(\"{}\\n \\n\".format(x_test_b[i]))\n",
        "\n",
        "with open(\"/content/drive/MyDrive/11785_project/data/naive/body/y_body_test_naive.txt\", \"w+\") as f:\n",
        "    f.write(\"i_answers\\n\")\n",
        "    for i in range(len(y_test_b)):\n",
        "        f.write(\"{}\\n \\n\".format(y_test_b[i]))"
      ],
      "metadata": {
        "id": "SiZ1VGY83gaj"
      },
      "execution_count": 43,
      "outputs": []
    },
    {
      "cell_type": "code",
      "source": [
        "# combine\n",
        "\n",
        "x_train_c, x_test_c, y_train_c, y_test_c = train_test_split(x_data,y_data,random_state=104, test_size=0.2, shuffle=True)\n",
        "x_train_c, x_val_c, y_train_c, y_val_c = train_test_split(x_train_c,y_train_c,random_state=104, test_size=0.2, shuffle=True)"
      ],
      "metadata": {
        "id": "618f3FD93gdL"
      },
      "execution_count": 44,
      "outputs": []
    },
    {
      "cell_type": "code",
      "source": [
        "len(x_train_c),len(y_train_c),len(x_test_c),len(y_test_c),len(x_val_c),len(y_val_c)"
      ],
      "metadata": {
        "colab": {
          "base_uri": "https://localhost:8080/"
        },
        "id": "J0fnLPmvEs2S",
        "outputId": "0da05150-5531-4a85-e338-42d273d075e7"
      },
      "execution_count": 45,
      "outputs": [
        {
          "output_type": "execute_result",
          "data": {
            "text/plain": [
              "(6336, 6336, 1980, 1980, 1584, 1584)"
            ]
          },
          "metadata": {},
          "execution_count": 45
        }
      ]
    },
    {
      "cell_type": "code",
      "source": [
        "with open(\"/content/drive/MyDrive/11785_project/data/naive/combine/x_combine_train_naive.txt\", \"w+\") as f:\n",
        "    f.write(\"question\\n\")\n",
        "    for i in range(len(x_train_c)):\n",
        "        f.write(\"{}\\n \\n\".format(x_train_c[i]))\n",
        "\n",
        "with open(\"/content/drive/MyDrive/11785_project/data/naive/combine/y_combine_train_naive.txt\", \"w+\") as f:\n",
        "    f.write(\"i_answers\\n\")\n",
        "    for i in range(len(y_train_c)):\n",
        "        f.write(\"{}\\n \\n\".format(y_train_c[i]))\n",
        "\n",
        "with open(\"/content/drive/MyDrive/11785_project/data/naive/combine/x_combine_val_naive.txt\", \"w+\") as f:\n",
        "    f.write(\"question\\n\")\n",
        "    for i in range(len(x_val_c)):\n",
        "        f.write(\"{}\\n \\n\".format(x_val_c[i]))\n",
        "\n",
        "with open(\"/content/drive/MyDrive/11785_project/data/naive/combine/y_combine_val_naive.txt\", \"w+\") as f:\n",
        "    f.write(\"i_answers\\n\")\n",
        "    for i in range(len(y_val_c)):\n",
        "        f.write(\"{}\\n \\n\".format(y_val_c[i]))\n",
        "\n",
        "with open(\"/content/drive/MyDrive/11785_project/data/naive/combine/x_combine_test_naive.txt\", \"w+\") as f:\n",
        "    f.write(\"question\\n\")\n",
        "    for i in range(len(x_test_c)):\n",
        "        f.write(\"{}\\n \\n\".format(x_test_c[i]))\n",
        "\n",
        "with open(\"/content/drive/MyDrive/11785_project/data/naive/combine/y_combine_test_naive.txt\", \"w+\") as f:\n",
        "    f.write(\"i_answers\\n\")\n",
        "    for i in range(len(y_test_c)):\n",
        "        f.write(\"{}\\n \\n\".format(y_test_c[i]))"
      ],
      "metadata": {
        "id": "tKzsvjuAJw9L"
      },
      "execution_count": 46,
      "outputs": []
    }
  ]
}