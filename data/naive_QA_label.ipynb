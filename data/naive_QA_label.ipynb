{
  "nbformat": 4,
  "nbformat_minor": 0,
  "metadata": {
    "colab": {
      "provenance": []
    },
    "kernelspec": {
      "name": "python3",
      "display_name": "Python 3"
    },
    "language_info": {
      "name": "python"
    }
  },
  "cells": [
    {
      "cell_type": "code",
      "source": [
        "import json\n",
        "import pandas as pd\n",
        "import random"
      ],
      "metadata": {
        "id": "Ki1UnQSgUhRN"
      },
      "execution_count": 1,
      "outputs": []
    },
    {
      "cell_type": "code",
      "execution_count": 2,
      "metadata": {
        "colab": {
          "base_uri": "https://localhost:8080/"
        },
        "id": "aleLjSIhTe_0",
        "outputId": "d89c8935-dcb6-4b45-ab7c-76adaca0b74c"
      },
      "outputs": [
        {
          "output_type": "stream",
          "name": "stdout",
          "text": [
            "Mounted at /content/drive\n"
          ]
        }
      ],
      "source": [
        "from google.colab import drive\n",
        "drive.mount('/content/drive')"
      ]
    },
    {
      "cell_type": "code",
      "source": [
        "# path \n",
        "path_2020s = '/content/drive/MyDrive/11785_project/data/2020S/contributions.csv'\n",
        "path_2020f = '/content/drive/MyDrive/11785_project/data/2020F/contributions.csv'\n",
        "path_2021s = '/content/drive/MyDrive/11785_project/data/2021S/contributions.csv'\n",
        "path_2021f = '/content/drive/MyDrive/11785_project/data/2021F/contributions.csv'\n",
        "path_2022s = '/content/drive/MyDrive/11785_project/data/2022S/contributions.csv'\n",
        "path_2022f = '/content/drive/MyDrive/11785_project/data/2022F/contributions.csv'"
      ],
      "metadata": {
        "id": "hNrbDz4RT-yx"
      },
      "execution_count": 3,
      "outputs": []
    },
    {
      "cell_type": "code",
      "source": [
        "#read files\n",
        "df_2020s = pd.read_csv(path_2020s)\n",
        "df_2020f = pd.read_csv(path_2020f)\n",
        "df_2021s = pd.read_csv(path_2021s)\n",
        "df_2021f = pd.read_csv(path_2021f)\n",
        "df_2022s = pd.read_csv(path_2022s)\n",
        "df_2022f = pd.read_csv(path_2022f)"
      ],
      "metadata": {
        "id": "DScj8sP2Ejp9"
      },
      "execution_count": 4,
      "outputs": []
    },
    {
      "cell_type": "code",
      "source": [
        "### 2020s\n",
        "question_2020s = df_2020s.loc[df_2020s['Part of Post'] == 'started_off_question']\n",
        "ianswer_2020s = df_2020s.loc[df_2020s['Part of Post'] == 'started_off_i_answer']\n",
        "question_2020s = question_2020s[[\"Submission HTML Removed\",\"Subject\",\"Folders\"]]\n",
        "ianswer_2020s = ianswer_2020s[[\"Submission HTML Removed\",\"Subject\"]]\n",
        "### 2020f\n",
        "question_2020f = df_2020f.loc[df_2020f['Part of Post'] == 'started_off_question']\n",
        "ianswer_2020f = df_2020f.loc[df_2020f['Part of Post'] == 'started_off_i_answer']\n",
        "question_2020f = question_2020f[[\"Submission HTML Removed\",\"Subject\",\"Folders\"]]\n",
        "ianswer_2020f = ianswer_2020f[[\"Submission HTML Removed\",\"Subject\"]]"
      ],
      "metadata": {
        "id": "cjUzoUaFJXSu"
      },
      "execution_count": 5,
      "outputs": []
    },
    {
      "cell_type": "code",
      "source": [
        "### 2021s\n",
        "question_2021s = df_2021s.loc[df_2021s['Part of Post'] == 'started_off_question']\n",
        "ianswer_2021s = df_2021s.loc[df_2021s['Part of Post'] == 'started_off_i_answer']\n",
        "question_2021s = question_2021s[[\"Submission HTML Removed\",\"Subject\",\"Folders\"]]\n",
        "ianswer_2021s = ianswer_2021s[[\"Submission HTML Removed\",\"Subject\"]]\n",
        "### 2021f\n",
        "question_2021f = df_2021f.loc[df_2021f['Part of Post'] == 'started_off_question']\n",
        "ianswer_2021f = df_2021f.loc[df_2021f['Part of Post'] == 'started_off_i_answer']\n",
        "question_2021f = question_2021f[[\"Submission HTML Removed\",\"Subject\",\"Folders\"]]\n",
        "ianswer_2021f = ianswer_2021f[[\"Submission HTML Removed\",\"Subject\"]]"
      ],
      "metadata": {
        "id": "qA2wo7OzmJLs"
      },
      "execution_count": 6,
      "outputs": []
    },
    {
      "cell_type": "code",
      "source": [
        "### 2022s\n",
        "question_2022s = df_2022s.loc[df_2022s['Part of Post'] == 'started_off_question']\n",
        "ianswer_2022s = df_2022s.loc[df_2022s['Part of Post'] == 'started_off_i_answer']\n",
        "question_2022s = question_2022s[[\"Submission HTML Removed\",\"Subject\",\"Folders\"]]\n",
        "ianswer_2022s = ianswer_2022s[[\"Submission HTML Removed\",\"Subject\"]]\n",
        "### 2022f\n",
        "question_2022f = df_2022f.loc[df_2022f['Part of Post'] == 'started_off_question']\n",
        "ianswer_2022f = df_2022f.loc[df_2022f['Part of Post'] == 'started_off_i_answer']\n",
        "question_2022f = question_2022f[[\"Submission HTML Removed\",\"Subject\",\"Folders\"]]\n",
        "ianswer_2022f = ianswer_2022f[[\"Submission HTML Removed\",\"Subject\"]]"
      ],
      "metadata": {
        "id": "pBcpTdXfKqPU"
      },
      "execution_count": 7,
      "outputs": []
    },
    {
      "cell_type": "code",
      "source": [
        "question_2020s_list = question_2020s.values.tolist()\n",
        "ianswer_2020s_list = ianswer_2020s.values.tolist()\n",
        "question_2020f_list = question_2020f.values.tolist()\n",
        "ianswer_2020f_list = ianswer_2020f.values.tolist()\n",
        "question_2021s_list = question_2021s.values.tolist()\n",
        "ianswer_2021s_list = ianswer_2021s.values.tolist()\n",
        "question_2021f_list = question_2021f.values.tolist()\n",
        "ianswer_2021f_list = ianswer_2021f.values.tolist()\n",
        "question_2022s_list = question_2022s.values.tolist()\n",
        "ianswer_2022s_list = ianswer_2022s.values.tolist()\n",
        "question_2022f_list = question_2022f.values.tolist()\n",
        "ianswer_2022f_list = ianswer_2022f.values.tolist()"
      ],
      "metadata": {
        "id": "EQvPzyUkmdpL"
      },
      "execution_count": 8,
      "outputs": []
    },
    {
      "cell_type": "code",
      "source": [
        "print(len(question_2020s_list),len(ianswer_2020s_list))\n",
        "print(len(question_2020f_list),len(ianswer_2020f_list))\n",
        "print(len(question_2021s_list),len(ianswer_2021s_list))\n",
        "print(len(question_2021f_list),len(ianswer_2021f_list))\n",
        "print(len(question_2022s_list),len(ianswer_2022s_list))\n",
        "print(len(question_2022f_list),len(ianswer_2022f_list))"
      ],
      "metadata": {
        "colab": {
          "base_uri": "https://localhost:8080/"
        },
        "id": "-9D8Va2O9Sqo",
        "outputId": "d79e3b3e-b105-43fa-ab13-6c84c119a86a"
      },
      "execution_count": 9,
      "outputs": [
        {
          "output_type": "stream",
          "name": "stdout",
          "text": [
            "1638 1588\n",
            "1984 1946\n",
            "1252 1196\n",
            "1736 1683\n",
            "2122 2070\n",
            "1508 1485\n"
          ]
        }
      ]
    },
    {
      "cell_type": "code",
      "source": [
        "#2020s\n",
        "correct_pair = []\n",
        "for i in range(len(question_2020s_list)):\n",
        "  for j in range(len(ianswer_2020s_list)):\n",
        "    if question_2020s_list[i][1] == ianswer_2020s_list[j][1]:\n",
        "      correct_pair.append([question_2020s_list[i][1],\n",
        "                           ianswer_2020s_list[j][1],\n",
        "                           question_2020s_list[i][0],\n",
        "                           ianswer_2020s_list[j][0],\n",
        "                           question_2020s_list[i][2]])\n",
        "      break"
      ],
      "metadata": {
        "id": "KUe2xHps9qY8"
      },
      "execution_count": 10,
      "outputs": []
    },
    {
      "cell_type": "code",
      "source": [
        "correct_pair[0],len(correct_pair)"
      ],
      "metadata": {
        "colab": {
          "base_uri": "https://localhost:8080/"
        },
        "id": "srmCX1N6-Gy0",
        "outputId": "a502ffee-156d-469f-dbd8-6ea93254a9ae"
      },
      "execution_count": 11,
      "outputs": [
        {
          "output_type": "execute_result",
          "data": {
            "text/plain": [
              "(['Curious about invitation email',\n",
              "  'Curious about invitation email',\n",
              "  'I am still on the waiting list and why was I invited to join\\xa0in piazza?',\n",
              "  \"We invited all students in both enrolled and waiting lists so that you'll not miss the notifications and instructions before your enrollment. We'll\\xa0start posting instructions in\\xa0the following days.\",\n",
              "  'other'],\n",
              " 1580)"
            ]
          },
          "metadata": {},
          "execution_count": 11
        }
      ]
    },
    {
      "cell_type": "code",
      "source": [
        "#2020f\n",
        "for i in range(len(question_2020f_list)):\n",
        "  for j in range(len(ianswer_2020f_list)):\n",
        "    if question_2020f_list[i][1] == ianswer_2020f_list[j][1]:\n",
        "      correct_pair.append([question_2020f_list[i][1],\n",
        "                           ianswer_2020f_list[j][1],\n",
        "                           question_2020f_list[i][0],\n",
        "                           ianswer_2020f_list[j][0],\n",
        "                           question_2020f_list[i][2]])\n",
        "      break"
      ],
      "metadata": {
        "id": "0wGpRlH3Cqot"
      },
      "execution_count": 12,
      "outputs": []
    },
    {
      "cell_type": "code",
      "source": [
        "correct_pair[1580],len(correct_pair),len(correct_pair[1580:])"
      ],
      "metadata": {
        "colab": {
          "base_uri": "https://localhost:8080/"
        },
        "id": "Qf1Jf6I1EFBa",
        "outputId": "c8f5ec15-e425-4228-ef68-61cf9c2983be"
      },
      "execution_count": 13,
      "outputs": [
        {
          "output_type": "execute_result",
          "data": {
            "text/plain": [
              "(['Syllabus for 11685',\n",
              "  'Syllabus for 11685',\n",
              "  'Dear Instructors,\\nI am required to submit a petition form for taking the course 11685 since it is an out of department course for me.\\nAlong with the petition form I also need to submit a copy of the course syllabus. I could only find a copy of the 11785 course.\\nCan you please direct me to the syllabus for 11685, to complete my petition application.\\nThanks!',\n",
              "  'The syllabi are the same.\\xa0 Its the same course with different numbers.',\n",
              "  'logistics'],\n",
              " 3525,\n",
              " 1945)"
            ]
          },
          "metadata": {},
          "execution_count": 13
        }
      ]
    },
    {
      "cell_type": "code",
      "source": [
        "#2021s\n",
        "for i in range(len(question_2021s_list)):\n",
        "  for j in range(len(ianswer_2021s_list)):\n",
        "    if question_2021s_list[i][1] == ianswer_2021s_list[j][1]:\n",
        "      correct_pair.append([question_2021s_list[i][1],\n",
        "                           ianswer_2021s_list[j][1],\n",
        "                           question_2021s_list[i][0],\n",
        "                           ianswer_2021s_list[j][0],\n",
        "                           question_2021s_list[i][2]])\n",
        "      break"
      ],
      "metadata": {
        "id": "hiESo3EkLGg7"
      },
      "execution_count": 14,
      "outputs": []
    },
    {
      "cell_type": "code",
      "source": [
        "correct_pair[3525],len(correct_pair),len(correct_pair[3525:])"
      ],
      "metadata": {
        "colab": {
          "base_uri": "https://localhost:8080/"
        },
        "id": "4lK4RJFHEf79",
        "outputId": "d8db5362-662a-481c-e66f-5a242af0d3e1"
      },
      "execution_count": 15,
      "outputs": [
        {
          "output_type": "execute_result",
          "data": {
            "text/plain": [
              "(['Course Conflict',\n",
              "  'Course Conflict',\n",
              "  'Hello, I am following up the pinned Piazza post @6.\\nI have a course conflict but only on Friday at 9:10 am.\\nCurrently I am signed up for section B and I hope this is ok since it overlaps 30 minutes.\\nThe other lectures I can attend in real time but not Friday at this time.\\nI plan to attend the EST Office Hours as mentioned in the email.\\n\\n',\n",
              "  'That should be fine. We have recitations on Friday morning. Make sure you watch the remaining portion later.\\xa0',\n",
              "  'logistics'],\n",
              " 4718,\n",
              " 1193)"
            ]
          },
          "metadata": {},
          "execution_count": 15
        }
      ]
    },
    {
      "cell_type": "code",
      "source": [
        "#2021f\n",
        "for i in range(len(question_2021f_list)):\n",
        "  for j in range(len(ianswer_2021f_list)):\n",
        "    if question_2021f_list[i][1] == ianswer_2021f_list[j][1]:\n",
        "      correct_pair.append([question_2021f_list[i][1],\n",
        "                           ianswer_2021f_list[j][1],\n",
        "                           question_2021f_list[i][0],\n",
        "                           ianswer_2021f_list[j][0],\n",
        "                           question_2021f_list[i][2]])\n",
        "      break"
      ],
      "metadata": {
        "id": "hTbeGfxHLGju"
      },
      "execution_count": 16,
      "outputs": []
    },
    {
      "cell_type": "code",
      "source": [
        "correct_pair[4718],len(correct_pair),len(correct_pair[4718:])"
      ],
      "metadata": {
        "colab": {
          "base_uri": "https://localhost:8080/"
        },
        "id": "htT9iE9LEv0O",
        "outputId": "207fd418-93bb-464b-fb06-31180395466c"
      },
      "execution_count": 17,
      "outputs": [
        {
          "output_type": "execute_result",
          "data": {
            "text/plain": [
              "(['hw0 deadline',\n",
              "  'hw0 deadline',\n",
              "  'Will the deadline for submission of hw0 be a week after the semester starts or before the sem even starts?',\n",
              "  'Hi,\\n\\nThe HW0 would be released in the coming days along with the deadline which should ideally be towards the end of the First week of class.\\n\\n- Rukayat',\n",
              "  'hw0'],\n",
              " 6398,\n",
              " 1680)"
            ]
          },
          "metadata": {},
          "execution_count": 17
        }
      ]
    },
    {
      "cell_type": "code",
      "source": [
        "#2022s\n",
        "for i in range(len(question_2022s_list)):\n",
        "  for j in range(len(ianswer_2022s_list)):\n",
        "    if question_2022s_list[i][1] == ianswer_2022s_list[j][1]:\n",
        "      correct_pair.append([question_2022s_list[i][1],\n",
        "                           ianswer_2022s_list[j][1],\n",
        "                           question_2022s_list[i][0],\n",
        "                           ianswer_2022s_list[j][0],\n",
        "                           question_2022s_list[i][2]])\n",
        "      break"
      ],
      "metadata": {
        "id": "-vQsR9zTLGnD"
      },
      "execution_count": 18,
      "outputs": []
    },
    {
      "cell_type": "code",
      "source": [
        "correct_pair[6398],len(correct_pair),len(correct_pair[6398:])"
      ],
      "metadata": {
        "colab": {
          "base_uri": "https://localhost:8080/"
        },
        "id": "l2HzWRVvFJV0",
        "outputId": "310c6665-370b-40ea-a03b-f56e63d08655"
      },
      "execution_count": 19,
      "outputs": [
        {
          "output_type": "execute_result",
          "data": {
            "text/plain": [
              "(['Section SV : Schedule TBA',\n",
              "  'Section SV : Schedule TBA',\n",
              "  'Hello Instructors,\\xa0\\n\\xa0I still see TBA for the schedule of the section SV with IPE at SJC location. May I know when it will be announced?\\n\\nOr is it actually fully remote instruction?\\n\\n\\nThanks,\\nSincerely,\\nSpatika',\n",
              "  'The SV section is a streamed version of the Pit section. It is exactly at the same time as Pit.\\xa0 Classes are 8.30am-9.50am\\xa0 SV time,\\xa0 Tuesdays and Thursdays.\\xa0\\n\\nRecitations are also synchronous with Pit.',\n",
              "  'logistics'],\n",
              " 8470,\n",
              " 2072)"
            ]
          },
          "metadata": {},
          "execution_count": 19
        }
      ]
    },
    {
      "cell_type": "code",
      "source": [
        "#2022f\n",
        "for i in range(len(question_2022f_list)):\n",
        "  for j in range(len(ianswer_2022f_list)):\n",
        "    if question_2022f_list[i][1] == ianswer_2022f_list[j][1]:\n",
        "      correct_pair.append([question_2022f_list[i][1],\n",
        "                           ianswer_2022f_list[j][1],\n",
        "                           question_2022f_list[i][0],\n",
        "                           ianswer_2022f_list[j][0],\n",
        "                           question_2022f_list[i][2]])\n",
        "      break"
      ],
      "metadata": {
        "id": "tN4csdE9LGp_"
      },
      "execution_count": 20,
      "outputs": []
    },
    {
      "cell_type": "code",
      "source": [
        "correct_pair[8470],len(correct_pair),len(correct_pair[8470:])"
      ],
      "metadata": {
        "colab": {
          "base_uri": "https://localhost:8080/"
        },
        "id": "ju4fPiyAFbnn",
        "outputId": "59370e84-1bb0-4ed2-aca6-00b445d8e37c"
      },
      "execution_count": 21,
      "outputs": [
        {
          "output_type": "execute_result",
          "data": {
            "text/plain": [
              "(['Unable to download the handout',\n",
              "  'Unable to download the handout',\n",
              "  'Hi,\\n\\nAfter I have been added to Autolab, I still cannot download the handout from it. I am not sure why this is happening. Thank you!\\xa0',\n",
              "  'Umm the handout is there on autolab so I am not sure why you are unable to download it but here the HW0 hand outs in the meantime\\nhw0p1-handout.tar\\nhw0p2-handout.tar',\n",
              "  'hw1p1'],\n",
              " 9955,\n",
              " 1485)"
            ]
          },
          "metadata": {},
          "execution_count": 21
        }
      ]
    },
    {
      "cell_type": "code",
      "source": [
        "rmnan_pair = []\n",
        "for i in range(len(correct_pair)):\n",
        "  if type(correct_pair[i][2]) != float and type(correct_pair[i][3]) != float:\n",
        "    rmnan_pair.append(correct_pair[i])"
      ],
      "metadata": {
        "id": "ig1Aj8QGLGtG"
      },
      "execution_count": 22,
      "outputs": []
    },
    {
      "cell_type": "code",
      "source": [
        "labels = []\n",
        "for i in range(len(rmnan_pair)):\n",
        "  labels.append(rmnan_pair[i][-1])"
      ],
      "metadata": {
        "id": "LVdmsuNgIusu"
      },
      "execution_count": 23,
      "outputs": []
    },
    {
      "cell_type": "code",
      "source": [
        "for i in range(len(labels)):\n",
        "  labels[i] = labels[i].split(';')"
      ],
      "metadata": {
        "id": "ofBBc_ZGJCIm"
      },
      "execution_count": 24,
      "outputs": []
    },
    {
      "cell_type": "code",
      "source": [
        "len(labels),len(rmnan_pair),"
      ],
      "metadata": {
        "colab": {
          "base_uri": "https://localhost:8080/"
        },
        "id": "sJlhqNetJ7eJ",
        "outputId": "748fb3c7-e066-4849-c001-99b4d6931d44"
      },
      "execution_count": 25,
      "outputs": [
        {
          "output_type": "execute_result",
          "data": {
            "text/plain": [
              "(9891, 9891)"
            ]
          },
          "metadata": {},
          "execution_count": 25
        }
      ]
    },
    {
      "cell_type": "code",
      "source": [
        "final_pair = []"
      ],
      "metadata": {
        "id": "sEp0HWjpRDx3"
      },
      "execution_count": 26,
      "outputs": []
    },
    {
      "cell_type": "code",
      "source": [
        "for i in range(len(labels)):\n",
        "  for j in range(len(labels[i])):\n",
        "    temp = dict()\n",
        "    temp['label'] = labels[i][j]\n",
        "    temp['question'] = rmnan_pair[i][2]\n",
        "    temp['answer'] = rmnan_pair[i][3]\n",
        "    final_pair.append(temp)"
      ],
      "metadata": {
        "id": "H4nXw5tNBQoR"
      },
      "execution_count": 27,
      "outputs": []
    },
    {
      "cell_type": "code",
      "source": [
        "final_pair[0]"
      ],
      "metadata": {
        "colab": {
          "base_uri": "https://localhost:8080/"
        },
        "id": "sEoPpkVDLWHA",
        "outputId": "8ea6be6b-f865-43c9-9e2d-3c70f06308ec"
      },
      "execution_count": 28,
      "outputs": [
        {
          "output_type": "execute_result",
          "data": {
            "text/plain": [
              "{'label': 'other',\n",
              " 'question': 'I am still on the waiting list and why was I invited to join\\xa0in piazza?',\n",
              " 'answer': \"We invited all students in both enrolled and waiting lists so that you'll not miss the notifications and instructions before your enrollment. We'll\\xa0start posting instructions in\\xa0the following days.\"}"
            ]
          },
          "metadata": {},
          "execution_count": 28
        }
      ]
    },
    {
      "cell_type": "code",
      "source": [
        "N = len(final_pair)\n",
        "print(N)"
      ],
      "metadata": {
        "id": "OsNoU1bJZKqI",
        "colab": {
          "base_uri": "https://localhost:8080/"
        },
        "outputId": "7eb6cb22-5571-4f06-98b1-bde39b0054bc"
      },
      "execution_count": 29,
      "outputs": [
        {
          "output_type": "stream",
          "name": "stdout",
          "text": [
            "10376\n"
          ]
        }
      ]
    },
    {
      "cell_type": "code",
      "source": [
        "seq = list(range(N))\n",
        "raw_train_idx = random.sample(seq,int(0.8*N))\n",
        "test_idx = []\n",
        "for i in seq:\n",
        "  if i not in raw_train_idx:\n",
        "    test_idx.append(i)"
      ],
      "metadata": {
        "id": "1qmja2u4Khzs"
      },
      "execution_count": 30,
      "outputs": []
    },
    {
      "cell_type": "code",
      "source": [
        "train_idx = random.sample(raw_train_idx,int(0.8*len(raw_train_idx)))\n",
        "dev_idx = []\n",
        "for i in raw_train_idx:\n",
        "  if i not in train_idx:\n",
        "    dev_idx.append(i)"
      ],
      "metadata": {
        "id": "EORqZjeiZ5Lr"
      },
      "execution_count": 31,
      "outputs": []
    },
    {
      "cell_type": "code",
      "source": [
        "print(len(train_idx),len(dev_idx),len(test_idx))"
      ],
      "metadata": {
        "id": "RxROurbPaBWj",
        "colab": {
          "base_uri": "https://localhost:8080/"
        },
        "outputId": "1f9db950-cfe5-4763-9e56-219ff1617f8e"
      },
      "execution_count": 32,
      "outputs": [
        {
          "output_type": "stream",
          "name": "stdout",
          "text": [
            "6640 1660 2076\n"
          ]
        }
      ]
    },
    {
      "cell_type": "code",
      "source": [
        "f = open(\"/content/drive/MyDrive/11785_project/data/correct_pair/train_index.txt\", \"w\")\n",
        "for i in range(len(train_idx)):\n",
        "  f.write(str(train_idx[i]))\n",
        "  f.write(\"\\n\")\n",
        "f.close()"
      ],
      "metadata": {
        "id": "OA1UGYEPod-i"
      },
      "execution_count": 33,
      "outputs": []
    },
    {
      "cell_type": "code",
      "source": [
        "f = open(\"/content/drive/MyDrive/11785_project/data/correct_pair/dev_index.txt\", \"w\")\n",
        "for i in range(len(dev_idx)):\n",
        "  f.write(str(dev_idx[i]))\n",
        "  f.write(\"\\n\")\n",
        "f.close()"
      ],
      "metadata": {
        "id": "A0SCJc7xo3QW"
      },
      "execution_count": 34,
      "outputs": []
    },
    {
      "cell_type": "code",
      "source": [
        "f = open(\"/content/drive/MyDrive/11785_project/data/correct_pair/test_index.txt\", \"w\")\n",
        "for i in range(len(test_idx)):\n",
        "  f.write(str(test_idx[i]))\n",
        "  f.write(\"\\n\")\n",
        "f.close()"
      ],
      "metadata": {
        "id": "tnfu4l4Wo3TG"
      },
      "execution_count": 35,
      "outputs": []
    },
    {
      "cell_type": "code",
      "source": [
        "train_data = []\n",
        "for i in range(len(train_idx)):\n",
        "  train_data.append(final_pair[train_idx[i]])"
      ],
      "metadata": {
        "id": "_V3uUz8BaEfK"
      },
      "execution_count": 36,
      "outputs": []
    },
    {
      "cell_type": "code",
      "source": [
        "dev_data = []\n",
        "for i in range(len(dev_idx)):\n",
        "  dev_data.append(final_pair[dev_idx[i]])"
      ],
      "metadata": {
        "id": "E7V2hoxfaO7S"
      },
      "execution_count": 37,
      "outputs": []
    },
    {
      "cell_type": "code",
      "source": [
        "test_data = []\n",
        "for i in range(len(test_idx)):\n",
        "  test_data.append(final_pair[test_idx[i]])"
      ],
      "metadata": {
        "id": "dgygork-aO-S"
      },
      "execution_count": 38,
      "outputs": []
    },
    {
      "cell_type": "code",
      "source": [
        "with open('/content/drive/MyDrive/11785_project/data/correct_pair/train.json', mode='w', encoding='utf-8') as json_file:\n",
        "  json.dump(train_data,json_file)"
      ],
      "metadata": {
        "id": "GIQQ3XyfaSOx"
      },
      "execution_count": 39,
      "outputs": []
    },
    {
      "cell_type": "code",
      "source": [
        "with open('/content/drive/MyDrive/11785_project/data/correct_pair/dev.json', mode='w', encoding='utf-8') as json_file:\n",
        "  json.dump(dev_data,json_file)"
      ],
      "metadata": {
        "id": "tLq54swTaSWk"
      },
      "execution_count": 40,
      "outputs": []
    },
    {
      "cell_type": "code",
      "source": [
        "with open('/content/drive/MyDrive/11785_project/data/correct_pair/test.json', mode='w', encoding='utf-8') as json_file:\n",
        "  json.dump(test_data,json_file)"
      ],
      "metadata": {
        "id": "9v_V_gpOaSd2"
      },
      "execution_count": 41,
      "outputs": []
    },
    {
      "cell_type": "code",
      "source": [
        "# with open('/content/drive/MyDrive/11785_project/data/correct_pair/test.json', mode='r', encoding='utf-8') as f:\n",
        "#     dicts = json.load(f)\n",
        "#     for i in dicts:\n",
        "#         print(i)"
      ],
      "metadata": {
        "id": "VtCTl_X9bBrL"
      },
      "execution_count": null,
      "outputs": []
    },
    {
      "cell_type": "code",
      "source": [],
      "metadata": {
        "id": "BsBUWPRobB11"
      },
      "execution_count": null,
      "outputs": []
    }
  ]
}