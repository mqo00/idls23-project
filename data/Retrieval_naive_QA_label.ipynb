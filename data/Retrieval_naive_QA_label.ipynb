{
  "nbformat": 4,
  "nbformat_minor": 0,
  "metadata": {
    "colab": {
      "provenance": []
    },
    "kernelspec": {
      "name": "python3",
      "display_name": "Python 3"
    },
    "language_info": {
      "name": "python"
    }
  },
  "cells": [
    {
      "cell_type": "code",
      "source": [
        "import json\n",
        "import pandas as pd\n",
        "import random"
      ],
      "metadata": {
        "id": "Ki1UnQSgUhRN"
      },
      "execution_count": 1,
      "outputs": []
    },
    {
      "cell_type": "code",
      "execution_count": 2,
      "metadata": {
        "colab": {
          "base_uri": "https://localhost:8080/"
        },
        "id": "aleLjSIhTe_0",
        "outputId": "d3f76127-b14c-43b8-a89a-2af01c922b1f"
      },
      "outputs": [
        {
          "output_type": "stream",
          "name": "stdout",
          "text": [
            "Mounted at /content/drive\n"
          ]
        }
      ],
      "source": [
        "from google.colab import drive\n",
        "drive.mount('/content/drive')"
      ]
    },
    {
      "cell_type": "code",
      "source": [
        "# path \n",
        "path_2020s = '/content/drive/MyDrive/11785_project/data/2020S/contributions.csv'\n",
        "path_2020f = '/content/drive/MyDrive/11785_project/data/2020F/contributions.csv'\n",
        "path_2021s = '/content/drive/MyDrive/11785_project/data/2021S/contributions.csv'\n",
        "path_2021f = '/content/drive/MyDrive/11785_project/data/2021F/contributions.csv'\n",
        "path_2022s = '/content/drive/MyDrive/11785_project/data/2022S/contributions.csv'\n",
        "path_2022f = '/content/drive/MyDrive/11785_project/data/2022F/contributions.csv'"
      ],
      "metadata": {
        "id": "hNrbDz4RT-yx"
      },
      "execution_count": 3,
      "outputs": []
    },
    {
      "cell_type": "code",
      "source": [
        "#read files\n",
        "df_2020s = pd.read_csv(path_2020s)\n",
        "df_2020f = pd.read_csv(path_2020f)\n",
        "df_2021s = pd.read_csv(path_2021s)\n",
        "df_2021f = pd.read_csv(path_2021f)\n",
        "df_2022s = pd.read_csv(path_2022s)\n",
        "df_2022f = pd.read_csv(path_2022f)"
      ],
      "metadata": {
        "id": "DScj8sP2Ejp9"
      },
      "execution_count": 4,
      "outputs": []
    },
    {
      "cell_type": "code",
      "source": [
        "### 2020s\n",
        "question_2020s = df_2020s.loc[df_2020s['Part of Post'] == 'started_off_question']\n",
        "ianswer_2020s = df_2020s.loc[df_2020s['Part of Post'] == 'started_off_i_answer']\n",
        "question_2020s = question_2020s[[\"Submission HTML Removed\",\"Subject\",\"Folders\"]]\n",
        "ianswer_2020s = ianswer_2020s[[\"Submission HTML Removed\",\"Subject\"]]\n",
        "### 2020f\n",
        "question_2020f = df_2020f.loc[df_2020f['Part of Post'] == 'started_off_question']\n",
        "ianswer_2020f = df_2020f.loc[df_2020f['Part of Post'] == 'started_off_i_answer']\n",
        "question_2020f = question_2020f[[\"Submission HTML Removed\",\"Subject\",\"Folders\"]]\n",
        "ianswer_2020f = ianswer_2020f[[\"Submission HTML Removed\",\"Subject\"]]"
      ],
      "metadata": {
        "id": "cjUzoUaFJXSu"
      },
      "execution_count": 5,
      "outputs": []
    },
    {
      "cell_type": "code",
      "source": [
        "### 2021s\n",
        "question_2021s = df_2021s.loc[df_2021s['Part of Post'] == 'started_off_question']\n",
        "ianswer_2021s = df_2021s.loc[df_2021s['Part of Post'] == 'started_off_i_answer']\n",
        "question_2021s = question_2021s[[\"Submission HTML Removed\",\"Subject\",\"Folders\"]]\n",
        "ianswer_2021s = ianswer_2021s[[\"Submission HTML Removed\",\"Subject\"]]\n",
        "### 2021f\n",
        "question_2021f = df_2021f.loc[df_2021f['Part of Post'] == 'started_off_question']\n",
        "ianswer_2021f = df_2021f.loc[df_2021f['Part of Post'] == 'started_off_i_answer']\n",
        "question_2021f = question_2021f[[\"Submission HTML Removed\",\"Subject\",\"Folders\"]]\n",
        "ianswer_2021f = ianswer_2021f[[\"Submission HTML Removed\",\"Subject\"]]"
      ],
      "metadata": {
        "id": "qA2wo7OzmJLs"
      },
      "execution_count": 6,
      "outputs": []
    },
    {
      "cell_type": "code",
      "source": [
        "### 2022s\n",
        "question_2022s = df_2022s.loc[df_2022s['Part of Post'] == 'started_off_question']\n",
        "ianswer_2022s = df_2022s.loc[df_2022s['Part of Post'] == 'started_off_i_answer']\n",
        "question_2022s = question_2022s[[\"Submission HTML Removed\",\"Subject\",\"Folders\"]]\n",
        "ianswer_2022s = ianswer_2022s[[\"Submission HTML Removed\",\"Subject\"]]\n",
        "### 2022f\n",
        "question_2022f = df_2022f.loc[df_2022f['Part of Post'] == 'started_off_question']\n",
        "ianswer_2022f = df_2022f.loc[df_2022f['Part of Post'] == 'started_off_i_answer']\n",
        "question_2022f = question_2022f[[\"Submission HTML Removed\",\"Subject\",\"Folders\"]]\n",
        "ianswer_2022f = ianswer_2022f[[\"Submission HTML Removed\",\"Subject\"]]"
      ],
      "metadata": {
        "id": "pBcpTdXfKqPU"
      },
      "execution_count": 7,
      "outputs": []
    },
    {
      "cell_type": "code",
      "source": [
        "question_2020s_list = question_2020s.values.tolist()\n",
        "ianswer_2020s_list = ianswer_2020s.values.tolist()\n",
        "question_2020f_list = question_2020f.values.tolist()\n",
        "ianswer_2020f_list = ianswer_2020f.values.tolist()\n",
        "question_2021s_list = question_2021s.values.tolist()\n",
        "ianswer_2021s_list = ianswer_2021s.values.tolist()\n",
        "question_2021f_list = question_2021f.values.tolist()\n",
        "ianswer_2021f_list = ianswer_2021f.values.tolist()\n",
        "question_2022s_list = question_2022s.values.tolist()\n",
        "ianswer_2022s_list = ianswer_2022s.values.tolist()\n",
        "question_2022f_list = question_2022f.values.tolist()\n",
        "ianswer_2022f_list = ianswer_2022f.values.tolist()"
      ],
      "metadata": {
        "id": "EQvPzyUkmdpL"
      },
      "execution_count": 8,
      "outputs": []
    },
    {
      "cell_type": "code",
      "source": [
        "print(len(question_2020s_list),len(ianswer_2020s_list))\n",
        "print(len(question_2020f_list),len(ianswer_2020f_list))\n",
        "print(len(question_2021s_list),len(ianswer_2021s_list))\n",
        "print(len(question_2021f_list),len(ianswer_2021f_list))\n",
        "print(len(question_2022s_list),len(ianswer_2022s_list))\n",
        "print(len(question_2022f_list),len(ianswer_2022f_list))"
      ],
      "metadata": {
        "colab": {
          "base_uri": "https://localhost:8080/"
        },
        "id": "-9D8Va2O9Sqo",
        "outputId": "34428f8c-b21f-4e5e-ca26-13407b394673"
      },
      "execution_count": 9,
      "outputs": [
        {
          "output_type": "stream",
          "name": "stdout",
          "text": [
            "1638 1588\n",
            "1984 1946\n",
            "1252 1196\n",
            "1736 1683\n",
            "2122 2070\n",
            "1508 1485\n"
          ]
        }
      ]
    },
    {
      "cell_type": "code",
      "source": [
        "#2020s\n",
        "correct_pair = []\n",
        "for i in range(len(question_2020s_list)):\n",
        "  for j in range(len(ianswer_2020s_list)):\n",
        "    if question_2020s_list[i][1] == ianswer_2020s_list[j][1]:\n",
        "      correct_pair.append([question_2020s_list[i][1],\n",
        "                           ianswer_2020s_list[j][1],\n",
        "                           question_2020s_list[i][0],\n",
        "                           ianswer_2020s_list[j][0],\n",
        "                           question_2020s_list[i][2]])\n",
        "      break"
      ],
      "metadata": {
        "id": "KUe2xHps9qY8"
      },
      "execution_count": 10,
      "outputs": []
    },
    {
      "cell_type": "code",
      "source": [
        "correct_pair[0],len(correct_pair)"
      ],
      "metadata": {
        "colab": {
          "base_uri": "https://localhost:8080/"
        },
        "id": "srmCX1N6-Gy0",
        "outputId": "3465591f-898b-404a-af60-c71a5157c3d9"
      },
      "execution_count": 11,
      "outputs": [
        {
          "output_type": "execute_result",
          "data": {
            "text/plain": [
              "(['Curious about invitation email',\n",
              "  'Curious about invitation email',\n",
              "  'I am still on the waiting list and why was I invited to join\\xa0in piazza?',\n",
              "  \"We invited all students in both enrolled and waiting lists so that you'll not miss the notifications and instructions before your enrollment. We'll\\xa0start posting instructions in\\xa0the following days.\",\n",
              "  'other'],\n",
              " 1580)"
            ]
          },
          "metadata": {},
          "execution_count": 11
        }
      ]
    },
    {
      "cell_type": "code",
      "source": [
        "#2020f\n",
        "for i in range(len(question_2020f_list)):\n",
        "  for j in range(len(ianswer_2020f_list)):\n",
        "    if question_2020f_list[i][1] == ianswer_2020f_list[j][1]:\n",
        "      correct_pair.append([question_2020f_list[i][1],\n",
        "                           ianswer_2020f_list[j][1],\n",
        "                           question_2020f_list[i][0],\n",
        "                           ianswer_2020f_list[j][0],\n",
        "                           question_2020f_list[i][2]])\n",
        "      break"
      ],
      "metadata": {
        "id": "0wGpRlH3Cqot"
      },
      "execution_count": 12,
      "outputs": []
    },
    {
      "cell_type": "code",
      "source": [
        "correct_pair[1580],len(correct_pair),len(correct_pair[1580:])"
      ],
      "metadata": {
        "colab": {
          "base_uri": "https://localhost:8080/"
        },
        "id": "Qf1Jf6I1EFBa",
        "outputId": "dfa84500-a68e-460d-cc0f-45dc02d99686"
      },
      "execution_count": 13,
      "outputs": [
        {
          "output_type": "execute_result",
          "data": {
            "text/plain": [
              "(['Syllabus for 11685',\n",
              "  'Syllabus for 11685',\n",
              "  'Dear Instructors,\\nI am required to submit a petition form for taking the course 11685 since it is an out of department course for me.\\nAlong with the petition form I also need to submit a copy of the course syllabus. I could only find a copy of the 11785 course.\\nCan you please direct me to the syllabus for 11685, to complete my petition application.\\nThanks!',\n",
              "  'The syllabi are the same.\\xa0 Its the same course with different numbers.',\n",
              "  'logistics'],\n",
              " 3525,\n",
              " 1945)"
            ]
          },
          "metadata": {},
          "execution_count": 13
        }
      ]
    },
    {
      "cell_type": "code",
      "source": [
        "#2021s\n",
        "for i in range(len(question_2021s_list)):\n",
        "  for j in range(len(ianswer_2021s_list)):\n",
        "    if question_2021s_list[i][1] == ianswer_2021s_list[j][1]:\n",
        "      correct_pair.append([question_2021s_list[i][1],\n",
        "                           ianswer_2021s_list[j][1],\n",
        "                           question_2021s_list[i][0],\n",
        "                           ianswer_2021s_list[j][0],\n",
        "                           question_2021s_list[i][2]])\n",
        "      break"
      ],
      "metadata": {
        "id": "hiESo3EkLGg7"
      },
      "execution_count": 14,
      "outputs": []
    },
    {
      "cell_type": "code",
      "source": [
        "correct_pair[3525],len(correct_pair),len(correct_pair[3525:])"
      ],
      "metadata": {
        "colab": {
          "base_uri": "https://localhost:8080/"
        },
        "id": "4lK4RJFHEf79",
        "outputId": "8bed1e41-a17f-42c8-d3b6-0f2f9c739f04"
      },
      "execution_count": 15,
      "outputs": [
        {
          "output_type": "execute_result",
          "data": {
            "text/plain": [
              "(['Course Conflict',\n",
              "  'Course Conflict',\n",
              "  'Hello, I am following up the pinned Piazza post @6.\\nI have a course conflict but only on Friday at 9:10 am.\\nCurrently I am signed up for section B and I hope this is ok since it overlaps 30 minutes.\\nThe other lectures I can attend in real time but not Friday at this time.\\nI plan to attend the EST Office Hours as mentioned in the email.\\n\\n',\n",
              "  'That should be fine. We have recitations on Friday morning. Make sure you watch the remaining portion later.\\xa0',\n",
              "  'logistics'],\n",
              " 4718,\n",
              " 1193)"
            ]
          },
          "metadata": {},
          "execution_count": 15
        }
      ]
    },
    {
      "cell_type": "code",
      "source": [
        "#2021f\n",
        "for i in range(len(question_2021f_list)):\n",
        "  for j in range(len(ianswer_2021f_list)):\n",
        "    if question_2021f_list[i][1] == ianswer_2021f_list[j][1]:\n",
        "      correct_pair.append([question_2021f_list[i][1],\n",
        "                           ianswer_2021f_list[j][1],\n",
        "                           question_2021f_list[i][0],\n",
        "                           ianswer_2021f_list[j][0],\n",
        "                           question_2021f_list[i][2]])\n",
        "      break"
      ],
      "metadata": {
        "id": "hTbeGfxHLGju"
      },
      "execution_count": 16,
      "outputs": []
    },
    {
      "cell_type": "code",
      "source": [
        "correct_pair[4718],len(correct_pair),len(correct_pair[4718:])"
      ],
      "metadata": {
        "colab": {
          "base_uri": "https://localhost:8080/"
        },
        "id": "htT9iE9LEv0O",
        "outputId": "32adc71b-e0c3-49a7-f5f4-097de2ca6550"
      },
      "execution_count": 17,
      "outputs": [
        {
          "output_type": "execute_result",
          "data": {
            "text/plain": [
              "(['hw0 deadline',\n",
              "  'hw0 deadline',\n",
              "  'Will the deadline for submission of hw0 be a week after the semester starts or before the sem even starts?',\n",
              "  'Hi,\\n\\nThe HW0 would be released in the coming days along with the deadline which should ideally be towards the end of the First week of class.\\n\\n- Rukayat',\n",
              "  'hw0'],\n",
              " 6398,\n",
              " 1680)"
            ]
          },
          "metadata": {},
          "execution_count": 17
        }
      ]
    },
    {
      "cell_type": "code",
      "source": [
        "#2022s\n",
        "for i in range(len(question_2022s_list)):\n",
        "  for j in range(len(ianswer_2022s_list)):\n",
        "    if question_2022s_list[i][1] == ianswer_2022s_list[j][1]:\n",
        "      correct_pair.append([question_2022s_list[i][1],\n",
        "                           ianswer_2022s_list[j][1],\n",
        "                           question_2022s_list[i][0],\n",
        "                           ianswer_2022s_list[j][0],\n",
        "                           question_2022s_list[i][2]])\n",
        "      break"
      ],
      "metadata": {
        "id": "-vQsR9zTLGnD"
      },
      "execution_count": 18,
      "outputs": []
    },
    {
      "cell_type": "code",
      "source": [
        "correct_pair[6398],len(correct_pair),len(correct_pair[6398:])"
      ],
      "metadata": {
        "colab": {
          "base_uri": "https://localhost:8080/"
        },
        "id": "l2HzWRVvFJV0",
        "outputId": "c22dfd6b-f488-4c4b-c4cd-695396ad1a34"
      },
      "execution_count": 19,
      "outputs": [
        {
          "output_type": "execute_result",
          "data": {
            "text/plain": [
              "(['Section SV : Schedule TBA',\n",
              "  'Section SV : Schedule TBA',\n",
              "  'Hello Instructors,\\xa0\\n\\xa0I still see TBA for the schedule of the section SV with IPE at SJC location. May I know when it will be announced?\\n\\nOr is it actually fully remote instruction?\\n\\n\\nThanks,\\nSincerely,\\nSpatika',\n",
              "  'The SV section is a streamed version of the Pit section. It is exactly at the same time as Pit.\\xa0 Classes are 8.30am-9.50am\\xa0 SV time,\\xa0 Tuesdays and Thursdays.\\xa0\\n\\nRecitations are also synchronous with Pit.',\n",
              "  'logistics'],\n",
              " 8470,\n",
              " 2072)"
            ]
          },
          "metadata": {},
          "execution_count": 19
        }
      ]
    },
    {
      "cell_type": "code",
      "source": [
        "#2022f\n",
        "for i in range(len(question_2022f_list)):\n",
        "  for j in range(len(ianswer_2022f_list)):\n",
        "    if question_2022f_list[i][1] == ianswer_2022f_list[j][1]:\n",
        "      correct_pair.append([question_2022f_list[i][1],\n",
        "                           ianswer_2022f_list[j][1],\n",
        "                           question_2022f_list[i][0],\n",
        "                           ianswer_2022f_list[j][0],\n",
        "                           question_2022f_list[i][2]])\n",
        "      break"
      ],
      "metadata": {
        "id": "tN4csdE9LGp_"
      },
      "execution_count": 20,
      "outputs": []
    },
    {
      "cell_type": "code",
      "source": [
        "correct_pair[8470],len(correct_pair),len(correct_pair[8470:])"
      ],
      "metadata": {
        "colab": {
          "base_uri": "https://localhost:8080/"
        },
        "id": "ju4fPiyAFbnn",
        "outputId": "da940851-db57-4c56-d576-cdc709be94e5"
      },
      "execution_count": 21,
      "outputs": [
        {
          "output_type": "execute_result",
          "data": {
            "text/plain": [
              "(['Unable to download the handout',\n",
              "  'Unable to download the handout',\n",
              "  'Hi,\\n\\nAfter I have been added to Autolab, I still cannot download the handout from it. I am not sure why this is happening. Thank you!\\xa0',\n",
              "  'Umm the handout is there on autolab so I am not sure why you are unable to download it but here the HW0 hand outs in the meantime\\nhw0p1-handout.tar\\nhw0p2-handout.tar',\n",
              "  'hw1p1'],\n",
              " 9955,\n",
              " 1485)"
            ]
          },
          "metadata": {},
          "execution_count": 21
        }
      ]
    },
    {
      "cell_type": "code",
      "source": [
        "rmnan_pair = []\n",
        "for i in range(len(correct_pair)):\n",
        "  if type(correct_pair[i][2]) != float and type(correct_pair[i][3]) != float:\n",
        "    rmnan_pair.append(correct_pair[i])"
      ],
      "metadata": {
        "id": "ig1Aj8QGLGtG"
      },
      "execution_count": 22,
      "outputs": []
    },
    {
      "cell_type": "code",
      "source": [
        "rmnan_pair[0]"
      ],
      "metadata": {
        "colab": {
          "base_uri": "https://localhost:8080/"
        },
        "id": "bfnt23UHwJ0N",
        "outputId": "455212b4-a5aa-4fc9-ab4d-72c9cc4c1424"
      },
      "execution_count": 23,
      "outputs": [
        {
          "output_type": "execute_result",
          "data": {
            "text/plain": [
              "['Curious about invitation email',\n",
              " 'Curious about invitation email',\n",
              " 'I am still on the waiting list and why was I invited to join\\xa0in piazza?',\n",
              " \"We invited all students in both enrolled and waiting lists so that you'll not miss the notifications and instructions before your enrollment. We'll\\xa0start posting instructions in\\xa0the following days.\",\n",
              " 'other']"
            ]
          },
          "metadata": {},
          "execution_count": 23
        }
      ]
    },
    {
      "cell_type": "code",
      "source": [
        "for i in range(len(rmnan_pair)):\n",
        "  for j in range(len(rmnan_pair[i])):\n",
        "    rmnan_pair[i][j] = ' '.join(rmnan_pair[i][j].split('\\n'))\n",
        "    rmnan_pair[i][j] = ' '.join(rmnan_pair[i][j].split('\\t'))\n",
        "    rmnan_pair[i][j] = ' '.join(rmnan_pair[i][j].split('\\xa0'))"
      ],
      "metadata": {
        "id": "H_u9hMZBwHH8"
      },
      "execution_count": 24,
      "outputs": []
    },
    {
      "cell_type": "code",
      "source": [
        "labels = []\n",
        "for i in range(len(rmnan_pair)):\n",
        "  labels.append(rmnan_pair[i][-1])"
      ],
      "metadata": {
        "id": "LVdmsuNgIusu"
      },
      "execution_count": 25,
      "outputs": []
    },
    {
      "cell_type": "code",
      "source": [
        "print(len(labels))"
      ],
      "metadata": {
        "colab": {
          "base_uri": "https://localhost:8080/"
        },
        "id": "42P-ZPQlqQhP",
        "outputId": "b1e2f434-ca86-4459-ce9b-71a657cddc84"
      },
      "execution_count": 26,
      "outputs": [
        {
          "output_type": "stream",
          "name": "stdout",
          "text": [
            "9891\n"
          ]
        }
      ]
    },
    {
      "cell_type": "code",
      "source": [
        "for i in range(len(labels)):\n",
        "  labels[i] = labels[i].split(';')"
      ],
      "metadata": {
        "id": "ofBBc_ZGJCIm"
      },
      "execution_count": 27,
      "outputs": []
    },
    {
      "cell_type": "code",
      "source": [
        "for i in range(len(labels)):\n",
        "  for j in range(len(labels[i])):\n",
        "    labels[i][j] = ''.join(labels[i][j].split(' '))"
      ],
      "metadata": {
        "id": "sMs_YcBuxMCP"
      },
      "execution_count": 28,
      "outputs": []
    },
    {
      "cell_type": "code",
      "source": [
        "labels"
      ],
      "metadata": {
        "id": "4oUGieBpxm3W",
        "colab": {
          "base_uri": "https://localhost:8080/"
        },
        "outputId": "f96a20e7-ad87-4433-8af1-eb57e7510412"
      },
      "execution_count": 29,
      "outputs": [
        {
          "output_type": "execute_result",
          "data": {
            "text/plain": [
              "[['other'],\n",
              " ['lectures'],\n",
              " ['other'],\n",
              " ['other'],\n",
              " ['logistics'],\n",
              " ['hw0'],\n",
              " ['hw0'],\n",
              " ['hw0'],\n",
              " ['hw0'],\n",
              " ['hw0'],\n",
              " ['hw0'],\n",
              " ['hw0'],\n",
              " ['other'],\n",
              " ['hw0'],\n",
              " ['logistics'],\n",
              " ['other'],\n",
              " ['logistics'],\n",
              " ['hw0'],\n",
              " ['hw0'],\n",
              " ['hw0'],\n",
              " ['hw0'],\n",
              " ['hw0'],\n",
              " ['hw0'],\n",
              " ['hw0'],\n",
              " ['hw0'],\n",
              " ['hw0'],\n",
              " ['hw0'],\n",
              " ['hw0'],\n",
              " ['hw0'],\n",
              " ['logistics'],\n",
              " ['logistics'],\n",
              " ['hw0'],\n",
              " ['hw0'],\n",
              " ['hw0'],\n",
              " ['hw0'],\n",
              " ['hw0'],\n",
              " ['hw0'],\n",
              " ['logistics'],\n",
              " ['hw0'],\n",
              " ['hw0'],\n",
              " ['hw0'],\n",
              " ['hw0'],\n",
              " ['hw0'],\n",
              " ['hw0'],\n",
              " ['hw0'],\n",
              " ['hw0'],\n",
              " ['hw0'],\n",
              " ['hw0'],\n",
              " ['hw0'],\n",
              " ['hw0'],\n",
              " ['hw0'],\n",
              " ['hw0'],\n",
              " ['hw0'],\n",
              " ['hw0'],\n",
              " ['hw0'],\n",
              " ['hw0'],\n",
              " ['hw0'],\n",
              " ['project'],\n",
              " ['hw0'],\n",
              " ['logistics', 'hw0'],\n",
              " ['logistics'],\n",
              " ['hw0'],\n",
              " ['hw0'],\n",
              " ['hw0'],\n",
              " ['hw0'],\n",
              " ['hw0'],\n",
              " ['hw0'],\n",
              " ['hw0'],\n",
              " ['project'],\n",
              " ['hw0'],\n",
              " ['logistics'],\n",
              " ['hw0'],\n",
              " ['hw0'],\n",
              " ['logistics'],\n",
              " ['hw0'],\n",
              " ['hw0'],\n",
              " ['logistics'],\n",
              " ['hw0'],\n",
              " ['logistics', 'other'],\n",
              " ['logistics'],\n",
              " ['hw0'],\n",
              " ['hw0'],\n",
              " ['logistics'],\n",
              " ['hw0'],\n",
              " ['project'],\n",
              " ['hw0'],\n",
              " ['other', 'logistics'],\n",
              " ['lectures'],\n",
              " ['hw0'],\n",
              " ['hw0'],\n",
              " ['project', 'logistics'],\n",
              " ['other'],\n",
              " ['lectures'],\n",
              " ['logistics'],\n",
              " ['logistics'],\n",
              " ['hw0'],\n",
              " ['other'],\n",
              " ['lectures'],\n",
              " ['lectures'],\n",
              " ['hw0'],\n",
              " ['other'],\n",
              " ['logistics'],\n",
              " ['other'],\n",
              " ['logistics'],\n",
              " ['hw0'],\n",
              " ['other'],\n",
              " ['hw0'],\n",
              " ['lectures'],\n",
              " ['hw1p2'],\n",
              " ['other'],\n",
              " ['hw0'],\n",
              " ['hw0'],\n",
              " ['hw0'],\n",
              " ['hw0'],\n",
              " ['hw0'],\n",
              " ['other'],\n",
              " ['logistics'],\n",
              " ['logistics'],\n",
              " ['hw0'],\n",
              " ['hw0'],\n",
              " ['other'],\n",
              " ['logistics'],\n",
              " ['hw0'],\n",
              " ['hw0'],\n",
              " ['hw0'],\n",
              " ['other'],\n",
              " ['other'],\n",
              " ['hw0'],\n",
              " ['hw0'],\n",
              " ['logistics'],\n",
              " ['hw0'],\n",
              " ['lectures'],\n",
              " ['hw0'],\n",
              " ['hw0'],\n",
              " ['logistics'],\n",
              " ['hw0'],\n",
              " ['hw0'],\n",
              " ['hw0'],\n",
              " ['hw0'],\n",
              " ['hw0'],\n",
              " ['lectures'],\n",
              " ['lectures'],\n",
              " ['lectures'],\n",
              " ['hw0'],\n",
              " ['hw0'],\n",
              " ['logistics'],\n",
              " ['lectures'],\n",
              " ['hw0'],\n",
              " ['logistics', 'other'],\n",
              " ['logistics'],\n",
              " ['quizzes'],\n",
              " ['other'],\n",
              " ['quizzes'],\n",
              " ['quizzes'],\n",
              " ['quizzes'],\n",
              " ['quizzes'],\n",
              " ['lectures'],\n",
              " ['quizzes'],\n",
              " ['other'],\n",
              " ['quizzes'],\n",
              " ['logistics', 'quizzes'],\n",
              " ['other'],\n",
              " ['quizzes'],\n",
              " ['hw0'],\n",
              " ['quizzes'],\n",
              " ['hw0'],\n",
              " ['hw0'],\n",
              " ['quizzes'],\n",
              " ['hw0'],\n",
              " ['quizzes'],\n",
              " ['quizzes'],\n",
              " ['lectures'],\n",
              " ['hw0'],\n",
              " ['quizzes'],\n",
              " ['quizzes'],\n",
              " ['quizzes'],\n",
              " ['quizzes'],\n",
              " ['quizzes'],\n",
              " ['quizzes'],\n",
              " ['quizzes'],\n",
              " ['quizzes'],\n",
              " ['quizzes'],\n",
              " ['quizzes'],\n",
              " ['quizzes'],\n",
              " ['quizzes'],\n",
              " ['quizzes'],\n",
              " ['quizzes'],\n",
              " ['quizzes'],\n",
              " ['quizzes'],\n",
              " ['logistics'],\n",
              " ['quizzes'],\n",
              " ['quizzes'],\n",
              " ['hw0'],\n",
              " ['quizzes'],\n",
              " ['quizzes'],\n",
              " ['quizzes'],\n",
              " ['hw0'],\n",
              " ['hw0'],\n",
              " ['quizzes'],\n",
              " ['hw0'],\n",
              " ['quizzes'],\n",
              " ['quizzes'],\n",
              " ['quizzes'],\n",
              " ['quizzes'],\n",
              " ['quizzes'],\n",
              " ['quizzes'],\n",
              " ['logistics'],\n",
              " ['quizzes'],\n",
              " ['quizzes'],\n",
              " ['quizzes'],\n",
              " ['quizzes'],\n",
              " ['hw0'],\n",
              " ['hw1p1'],\n",
              " ['quizzes'],\n",
              " ['quizzes'],\n",
              " ['quizzes'],\n",
              " ['quizzes'],\n",
              " ['quizzes'],\n",
              " ['quizzes'],\n",
              " ['quizzes'],\n",
              " ['hw0', 'quizzes'],\n",
              " ['hw0'],\n",
              " ['quizzes'],\n",
              " ['quizzes'],\n",
              " ['quizzes'],\n",
              " ['quizzes'],\n",
              " ['logistics'],\n",
              " ['quizzes'],\n",
              " ['quizzes'],\n",
              " ['hw1p1'],\n",
              " ['logistics'],\n",
              " ['hw0', 'hw1p2'],\n",
              " ['hw1p1'],\n",
              " ['quizzes', 'logistics'],\n",
              " ['quizzes'],\n",
              " ['lectures'],\n",
              " ['quizzes'],\n",
              " ['logistics', 'quizzes'],\n",
              " ['quizzes'],\n",
              " ['quizzes'],\n",
              " ['quizzes'],\n",
              " ['quizzes'],\n",
              " ['quizzes'],\n",
              " ['logistics'],\n",
              " ['hw0'],\n",
              " ['hw1p2'],\n",
              " ['hw1p1'],\n",
              " ['hw1p2'],\n",
              " ['hw1p1'],\n",
              " ['hw1p2'],\n",
              " ['other'],\n",
              " ['hw1p1'],\n",
              " ['hw1p1'],\n",
              " ['hw1p1'],\n",
              " ['hw1p1'],\n",
              " ['hw1p1'],\n",
              " ['hw1p1'],\n",
              " ['hw1p1'],\n",
              " ['hw1p1'],\n",
              " ['lectures'],\n",
              " ['quizzes', 'hw0'],\n",
              " ['hw1p1'],\n",
              " ['quizzes'],\n",
              " ['logistics'],\n",
              " ['lectures', 'other'],\n",
              " ['other'],\n",
              " ['logistics'],\n",
              " ['hw1p1'],\n",
              " ['quizzes'],\n",
              " ['quizzes'],\n",
              " ['hw1p1'],\n",
              " ['hw0'],\n",
              " ['hw1p1'],\n",
              " ['hw1p1'],\n",
              " ['hw1p1'],\n",
              " ['other'],\n",
              " ['lectures'],\n",
              " ['lectures'],\n",
              " ['logistics', 'other'],\n",
              " ['hw0'],\n",
              " ['logistics'],\n",
              " ['lectures', 'other'],\n",
              " ['logistics'],\n",
              " ['hw0'],\n",
              " ['logistics', 'quizzes'],\n",
              " ['lectures'],\n",
              " ['quizzes'],\n",
              " ['hw1p2'],\n",
              " ['hw1p2'],\n",
              " ['hw1p1'],\n",
              " ['hw1p1'],\n",
              " ['other'],\n",
              " ['hw1p2'],\n",
              " ['other'],\n",
              " ['lectures'],\n",
              " ['lectures', 'logistics', 'other', 'quizzes'],\n",
              " ['logistics', 'hw0'],\n",
              " ['lectures'],\n",
              " ['hw1p1'],\n",
              " ['logistics'],\n",
              " ['hw0'],\n",
              " ['logistics'],\n",
              " ['hw1p1'],\n",
              " ['other'],\n",
              " ['other'],\n",
              " ['hw1p1'],\n",
              " ['hw1p1'],\n",
              " ['hw1p1'],\n",
              " ['hw1p2'],\n",
              " ['hw1p1'],\n",
              " ['quizzes'],\n",
              " ['hw1p1'],\n",
              " ['quizzes'],\n",
              " ['quizzes'],\n",
              " ['quizzes'],\n",
              " ['quizzes'],\n",
              " ['quizzes'],\n",
              " ['lectures'],\n",
              " ['quizzes'],\n",
              " ['quizzes'],\n",
              " ['quizzes'],\n",
              " ['hw1p2'],\n",
              " ['quizzes'],\n",
              " ['quizzes'],\n",
              " ['quizzes'],\n",
              " ['lectures'],\n",
              " ['lectures'],\n",
              " ['hw1p1'],\n",
              " ['hw1p1'],\n",
              " ['logistics'],\n",
              " ['hw1p1'],\n",
              " ['quizzes'],\n",
              " ['other'],\n",
              " ['quizzes'],\n",
              " ['logistics'],\n",
              " ['quizzes'],\n",
              " ['logistics'],\n",
              " ['hw1p1'],\n",
              " ['quizzes'],\n",
              " ['quizzes'],\n",
              " ['quizzes'],\n",
              " ['quizzes'],\n",
              " ['quizzes'],\n",
              " ['other'],\n",
              " ['other'],\n",
              " ['quizzes'],\n",
              " ['quizzes'],\n",
              " ['logistics'],\n",
              " ['logistics'],\n",
              " ['hw1p1'],\n",
              " ['quizzes'],\n",
              " ['lectures'],\n",
              " ['lectures'],\n",
              " ['quizzes'],\n",
              " ['quizzes'],\n",
              " ['quizzes'],\n",
              " ['quizzes'],\n",
              " ['quizzes'],\n",
              " ['quizzes'],\n",
              " ['other'],\n",
              " ['quizzes'],\n",
              " ['quizzes'],\n",
              " ['quizzes'],\n",
              " ['logistics'],\n",
              " ['quizzes'],\n",
              " ['quizzes'],\n",
              " ['lectures'],\n",
              " ['quizzes'],\n",
              " ['quizzes'],\n",
              " ['quizzes'],\n",
              " ['quizzes'],\n",
              " ['quizzes'],\n",
              " ['quizzes'],\n",
              " ['quizzes'],\n",
              " ['quizzes'],\n",
              " ['quizzes'],\n",
              " ['quizzes'],\n",
              " ['quizzes'],\n",
              " ['hw1p1'],\n",
              " ['quizzes'],\n",
              " ['quizzes'],\n",
              " ['quizzes'],\n",
              " ['quizzes'],\n",
              " ['quizzes'],\n",
              " ['quizzes'],\n",
              " ['quizzes'],\n",
              " ['quizzes'],\n",
              " ['lectures'],\n",
              " ['quizzes'],\n",
              " ['hw1p1'],\n",
              " ['hw1p2'],\n",
              " ['quizzes'],\n",
              " ['hw1p2'],\n",
              " ['lectures'],\n",
              " ['hw0'],\n",
              " ['other'],\n",
              " ['hw1p2'],\n",
              " ['hw1p1'],\n",
              " ['hw1p1'],\n",
              " ['hw1p1'],\n",
              " ['logistics'],\n",
              " ['hw1p2'],\n",
              " ['hw1p2'],\n",
              " ['hw1p2'],\n",
              " ['logistics'],\n",
              " ['hw1p2'],\n",
              " ['hw1p2'],\n",
              " ['hw1p2'],\n",
              " ['hw1p2'],\n",
              " ['other'],\n",
              " ['project', 'logistics'],\n",
              " ['hw1p1'],\n",
              " ['other'],\n",
              " ['hw1p2'],\n",
              " ['hw2p2'],\n",
              " ['hw1p2'],\n",
              " ['hw0'],\n",
              " ['hw1p2'],\n",
              " ['hw1p1'],\n",
              " ['hw1p2'],\n",
              " ['hw1p1'],\n",
              " ['hw1p2'],\n",
              " ['hw1p1'],\n",
              " ['hw1p2', 'logistics'],\n",
              " ['other'],\n",
              " ['hw1p2'],\n",
              " ['hw1p2'],\n",
              " ['other'],\n",
              " ['other'],\n",
              " ['lectures'],\n",
              " ['lectures'],\n",
              " ['hw1p1'],\n",
              " ['project'],\n",
              " ['other'],\n",
              " ['logistics'],\n",
              " ['hw1p1'],\n",
              " ['hw1p2'],\n",
              " ['hw1p2'],\n",
              " ['other'],\n",
              " ['hw1p1'],\n",
              " ['other'],\n",
              " ['hw1p2'],\n",
              " ['hw0'],\n",
              " ['hw1p2'],\n",
              " ['lectures'],\n",
              " ['hw1p2'],\n",
              " ['hw1p1'],\n",
              " ['hw1p2'],\n",
              " ['hw1p2'],\n",
              " ['hw1p2'],\n",
              " ['hw1p1'],\n",
              " ['hw1p2'],\n",
              " ['hw1p1'],\n",
              " ['hw1p2'],\n",
              " ['hw1p1'],\n",
              " ['hw1p2'],\n",
              " ['hw1p2'],\n",
              " ['hw0'],\n",
              " ['other'],\n",
              " ['hw1p1'],\n",
              " ['hw1p2'],\n",
              " ['hw1p2'],\n",
              " ['hw1p1'],\n",
              " ['hw1p2'],\n",
              " ['hw1p1'],\n",
              " ['hw1p1'],\n",
              " ['hw1p2'],\n",
              " ['hw1p2'],\n",
              " ['hw1p1'],\n",
              " ['hw1p1'],\n",
              " ['hw1p2'],\n",
              " ['logistics'],\n",
              " ['hw1p1'],\n",
              " ['logistics', 'hw1p2'],\n",
              " ['hw1p2'],\n",
              " ['quizzes'],\n",
              " ['quizzes'],\n",
              " ['logistics'],\n",
              " ['quizzes'],\n",
              " ['hw1p2'],\n",
              " ['hw1p2'],\n",
              " ['hw1p1'],\n",
              " ['hw1p2'],\n",
              " ['hw1p2'],\n",
              " ['hw1p2'],\n",
              " ['hw1p1'],\n",
              " ['other'],\n",
              " ['hw1p1'],\n",
              " ['hw1p2'],\n",
              " ['quizzes'],\n",
              " ['quizzes'],\n",
              " ['hw1p1'],\n",
              " ['hw1p1'],\n",
              " ['quizzes'],\n",
              " ['logistics'],\n",
              " ['hw1p2'],\n",
              " ['quizzes'],\n",
              " ['quizzes'],\n",
              " ['hw1p2'],\n",
              " ['hw1p2'],\n",
              " ['project'],\n",
              " ['hw1p2'],\n",
              " ['hw1p2'],\n",
              " ['hw1p2'],\n",
              " ['hw1p2'],\n",
              " ['hw1p1'],\n",
              " ['logistics', 'hw1p2'],\n",
              " ['quizzes'],\n",
              " ['quizzes'],\n",
              " ['quizzes'],\n",
              " ['hw1p2'],\n",
              " ['quizzes'],\n",
              " ['hw1p2'],\n",
              " ['hw0'],\n",
              " ['quizzes'],\n",
              " ['quizzes'],\n",
              " ['lectures'],\n",
              " ['lectures'],\n",
              " ['lectures'],\n",
              " ['hw1p2'],\n",
              " ['project'],\n",
              " ['quizzes'],\n",
              " ['hw1p2'],\n",
              " ['hw1p2'],\n",
              " ['hw1p2'],\n",
              " ['logistics'],\n",
              " ['project'],\n",
              " ['hw1p2'],\n",
              " ['hw1p1'],\n",
              " ['hw1p2'],\n",
              " ['hw1p2'],\n",
              " ['hw1p2'],\n",
              " ['hw1p2'],\n",
              " ['hw1p2'],\n",
              " ['useful_posts'],\n",
              " ['hw1p2'],\n",
              " ['hw1p1'],\n",
              " ['hw1p1'],\n",
              " ['hw1p2'],\n",
              " ['hw1p2'],\n",
              " ['hw1p2'],\n",
              " ['hw1p2'],\n",
              " ['hw1p2'],\n",
              " ['hw1p2'],\n",
              " ['lectures', 'useful_posts'],\n",
              " ['quizzes'],\n",
              " ['quizzes'],\n",
              " ['hw1p2'],\n",
              " ['useful_posts'],\n",
              " ['lectures'],\n",
              " ['quizzes'],\n",
              " ['hw1p2'],\n",
              " ['hw1p1'],\n",
              " ['logistics'],\n",
              " ['hw1p2'],\n",
              " ['hw1p2'],\n",
              " ['hw1p2'],\n",
              " ['quizzes'],\n",
              " ['hw1p1'],\n",
              " ['hw1p2'],\n",
              " ['quizzes'],\n",
              " ['project'],\n",
              " ['hw1p2'],\n",
              " ['hw1p2'],\n",
              " ['project'],\n",
              " ['hw1p2'],\n",
              " ['hw1p2'],\n",
              " ['lectures'],\n",
              " ['hw1p2'],\n",
              " ['hw1p2'],\n",
              " ['hw1p2'],\n",
              " ['hw1p2'],\n",
              " ['hw1p2'],\n",
              " ['hw1p2'],\n",
              " ['hw1p2'],\n",
              " ['logistics', 'hw1p2'],\n",
              " ['logistics'],\n",
              " ['hw1p2'],\n",
              " ['hw1p2'],\n",
              " ['project'],\n",
              " ['hw1p2'],\n",
              " ['hw1p2'],\n",
              " ['quizzes'],\n",
              " ['hw1p1'],\n",
              " ['hw1p2'],\n",
              " ['hw1p2'],\n",
              " ['logistics', 'project'],\n",
              " ['hw1p2'],\n",
              " ['hw1p2'],\n",
              " ['hw1p1'],\n",
              " ['useful_posts'],\n",
              " ['quizzes'],\n",
              " ['hw1p2'],\n",
              " ['hw1p2'],\n",
              " ['logistics'],\n",
              " ['hw1p2'],\n",
              " ['hw1p2'],\n",
              " ['hw1p1'],\n",
              " ['hw1p2'],\n",
              " ['hw1p2'],\n",
              " ['hw1p1'],\n",
              " ['hw1p2'],\n",
              " ['hw1p1'],\n",
              " ['hw1p1'],\n",
              " ['hw1p2'],\n",
              " ['hw1p2'],\n",
              " ['hw1p2'],\n",
              " ['hw1p1'],\n",
              " ['lectures'],\n",
              " ['lectures'],\n",
              " ['hw1p1'],\n",
              " ['hw1p2'],\n",
              " ['hw1p2'],\n",
              " ['hw1p2'],\n",
              " ['hw1p2'],\n",
              " ['hw1p2'],\n",
              " ['hw1p1'],\n",
              " ['hw1p2'],\n",
              " ['hw1p1'],\n",
              " ['hw1p2'],\n",
              " ['hw1p2'],\n",
              " ['logistics'],\n",
              " ['project', 'logistics'],\n",
              " ['hw1p2'],\n",
              " ['hw1p2'],\n",
              " ['quizzes'],\n",
              " ['quizzes'],\n",
              " ['quizzes'],\n",
              " ['hw1p2'],\n",
              " ['logistics'],\n",
              " ['lectures'],\n",
              " ['hw1p2'],\n",
              " ['hw1p1'],\n",
              " ['quizzes'],\n",
              " ['hw1p2'],\n",
              " ['hw1p1'],\n",
              " ['hw1p2'],\n",
              " ['exam'],\n",
              " ['lectures'],\n",
              " ['hw1p2'],\n",
              " ['lectures'],\n",
              " ['other'],\n",
              " ['logistics'],\n",
              " ['hw1p1'],\n",
              " ['hw1p1'],\n",
              " ['hw1p1'],\n",
              " ['hw1p1'],\n",
              " ['hw1p2'],\n",
              " ['hw1p1'],\n",
              " ['other'],\n",
              " ['other'],\n",
              " ['hw1p2'],\n",
              " ['hw0'],\n",
              " ['hw1p1'],\n",
              " ['project'],\n",
              " ['hw1p2'],\n",
              " ['hw1p1'],\n",
              " ['hw1p2'],\n",
              " ['hw1p2'],\n",
              " ['hw1p1', 'hw1p2'],\n",
              " ['hw1p1'],\n",
              " ['hw1p1'],\n",
              " ['lectures'],\n",
              " ['quizzes'],\n",
              " ['lectures'],\n",
              " ['hw1p2'],\n",
              " ['lectures'],\n",
              " ['hw1p2'],\n",
              " ['lectures'],\n",
              " ['quizzes'],\n",
              " ['lectures'],\n",
              " ['hw1p2'],\n",
              " ['hw1p2'],\n",
              " ['hw1p2'],\n",
              " ['logistics', 'quizzes'],\n",
              " ['logistics'],\n",
              " ['quizzes'],\n",
              " ['quizzes'],\n",
              " ['quizzes'],\n",
              " ['hw1p2'],\n",
              " ['hw1p2'],\n",
              " ['hw1p2'],\n",
              " ['quizzes'],\n",
              " ['lectures'],\n",
              " ['quizzes'],\n",
              " ['hw1p2'],\n",
              " ['other'],\n",
              " ['lectures'],\n",
              " ['project'],\n",
              " ['quizzes'],\n",
              " ['project'],\n",
              " ['hw1p2'],\n",
              " ['project'],\n",
              " ['lectures'],\n",
              " ['other'],\n",
              " ['project'],\n",
              " ['project'],\n",
              " ['project'],\n",
              " ['lectures'],\n",
              " ['hw1p2'],\n",
              " ['hw1p1'],\n",
              " ['lectures'],\n",
              " ['hw1p2'],\n",
              " ['hw1p2'],\n",
              " ['project'],\n",
              " ['hw1p2'],\n",
              " ['quizzes'],\n",
              " ['hw1p2'],\n",
              " ['logistics'],\n",
              " ['project'],\n",
              " ['project'],\n",
              " ['lectures'],\n",
              " ['project'],\n",
              " ['logistics'],\n",
              " ['hw1p2'],\n",
              " ['hw1p1'],\n",
              " ['other'],\n",
              " ['project', 'logistics'],\n",
              " ['hw1p2'],\n",
              " ['other'],\n",
              " ['project'],\n",
              " ['project'],\n",
              " ['other'],\n",
              " ['hw1p1'],\n",
              " ['project'],\n",
              " ['project'],\n",
              " ['hw1p2'],\n",
              " ['hw1p1'],\n",
              " ['hw2p2'],\n",
              " ['project'],\n",
              " ['hw2p1'],\n",
              " ['project'],\n",
              " ['hw1p2'],\n",
              " ['other'],\n",
              " ['hw2p1'],\n",
              " ['other'],\n",
              " ['project'],\n",
              " ['hw1p2'],\n",
              " ['project'],\n",
              " ['project'],\n",
              " ['hw1p1'],\n",
              " ['quizzes'],\n",
              " ['hw1p2'],\n",
              " ['project'],\n",
              " ['hw2p2'],\n",
              " ['lectures'],\n",
              " ['hw2p1'],\n",
              " ['project'],\n",
              " ['project'],\n",
              " ['project'],\n",
              " ['hw2p1'],\n",
              " ['lectures'],\n",
              " ['hw2p1'],\n",
              " ['project'],\n",
              " ['hw1p1'],\n",
              " ['project'],\n",
              " ['hw1p2'],\n",
              " ['hw1p1'],\n",
              " ['hw1p2'],\n",
              " ['hw1p2'],\n",
              " ['lectures'],\n",
              " ['hw1p2'],\n",
              " ['quizzes'],\n",
              " ['hw2p1'],\n",
              " ['quizzes'],\n",
              " ['hw2p1'],\n",
              " ['lectures'],\n",
              " ['logistics'],\n",
              " ['logistics'],\n",
              " ['lectures'],\n",
              " ['project'],\n",
              " ['lectures'],\n",
              " ['hw2p2'],\n",
              " ['hw2p2'],\n",
              " ['hw2p1'],\n",
              " ['hw2p1'],\n",
              " ['other'],\n",
              " ['hw2p1'],\n",
              " ['logistics'],\n",
              " ['hw2p1'],\n",
              " ['hw1p1'],\n",
              " ['hw2p1'],\n",
              " ['hw1p2'],\n",
              " ['hw2p1'],\n",
              " ['useful_posts'],\n",
              " ['hw2p1'],\n",
              " ['quizzes'],\n",
              " ['logistics'],\n",
              " ['logistics', 'other', 'lectures'],\n",
              " ['hw2p1'],\n",
              " ['hw1p1'],\n",
              " ['lectures'],\n",
              " ['hw2p2'],\n",
              " ['hw2p2'],\n",
              " ['other', 'logistics'],\n",
              " ['hw2p1'],\n",
              " ['lectures'],\n",
              " ['hw2p1'],\n",
              " ['project'],\n",
              " ['logistics'],\n",
              " ['hw2p2'],\n",
              " ['hw1p1'],\n",
              " ['hw2p2'],\n",
              " ['hw2p2'],\n",
              " ['other'],\n",
              " ['hw2p2'],\n",
              " ['lectures'],\n",
              " ['lectures'],\n",
              " ['hw2p2'],\n",
              " ['hw2p1'],\n",
              " ['quizzes'],\n",
              " ['logistics'],\n",
              " ['hw2p1'],\n",
              " ['hw2p2'],\n",
              " ['hw2p1'],\n",
              " ['hw2p2'],\n",
              " ['project'],\n",
              " ['hw2p2'],\n",
              " ['hw2p2'],\n",
              " ['hw2p2'],\n",
              " ['hw2p2'],\n",
              " ['hw2p1'],\n",
              " ['hw2p2'],\n",
              " ['lectures'],\n",
              " ['hw2p2'],\n",
              " ['other'],\n",
              " ['lectures'],\n",
              " ['hw2p2'],\n",
              " ['quizzes', 'logistics'],\n",
              " ['hw2p2'],\n",
              " ['logistics'],\n",
              " ['hw2p1'],\n",
              " ['hw2p2'],\n",
              " ['hw1p2', 'hw2p2'],\n",
              " ['hw2p1'],\n",
              " ['hw2p1'],\n",
              " ['quizzes'],\n",
              " ['hw2p2'],\n",
              " ['hw2p2'],\n",
              " ['hw2p1'],\n",
              " ['hw2p2'],\n",
              " ['hw2p1'],\n",
              " ['hw2p2'],\n",
              " ['hw2p2'],\n",
              " ['logistics'],\n",
              " ['hw2p2'],\n",
              " ['hw2p2'],\n",
              " ['hw2p2'],\n",
              " ['lectures'],\n",
              " ['hw2p1'],\n",
              " ['hw2p2'],\n",
              " ['hw2p1'],\n",
              " ['hw2p2'],\n",
              " ['hw2p2'],\n",
              " ['quizzes'],\n",
              " ['quizzes'],\n",
              " ['quizzes'],\n",
              " ['lectures'],\n",
              " ['hw2p2'],\n",
              " ['quizzes'],\n",
              " ['hw2p2'],\n",
              " ['hw2p2'],\n",
              " ['quizzes'],\n",
              " ['project'],\n",
              " ['hw2p2'],\n",
              " ['hw2p1'],\n",
              " ['hw2p2'],\n",
              " ['hw2p2'],\n",
              " ['hw2p2'],\n",
              " ['hw2p2'],\n",
              " ['hw2p1'],\n",
              " ['quizzes'],\n",
              " ['other'],\n",
              " ['hw1p2'],\n",
              " ['lectures'],\n",
              " ['hw2p2'],\n",
              " ['hw2p2'],\n",
              " ['hw2p1'],\n",
              " ['hw2p2'],\n",
              " ['lectures'],\n",
              " ['hw2p2'],\n",
              " ['hw2p2'],\n",
              " ['hw2p2'],\n",
              " ['hw2p2'],\n",
              " ['hw2p2'],\n",
              " ['hw2p1'],\n",
              " ['hw2p2'],\n",
              " ['logistics'],\n",
              " ['hw2p2'],\n",
              " ['hw2p2'],\n",
              " ['hw2p2'],\n",
              " ['hw1p2'],\n",
              " ['hw2p1'],\n",
              " ['hw2p1'],\n",
              " ['hw2p2'],\n",
              " ['hw2p1', 'hw2p2'],\n",
              " ['hw2p2'],\n",
              " ['hw2p2'],\n",
              " ['hw2p1'],\n",
              " ['lectures'],\n",
              " ['hw2p2'],\n",
              " ['hw2p2'],\n",
              " ['logistics'],\n",
              " ['hw2p2'],\n",
              " ['hw2p1'],\n",
              " ['hw2p1'],\n",
              " ['quizzes'],\n",
              " ['hw2p2'],\n",
              " ['hw2p2'],\n",
              " ['hw2p2'],\n",
              " ['hw2p2'],\n",
              " ['hw2p2'],\n",
              " ['hw2p1'],\n",
              " ['hw2p2'],\n",
              " ['logistics'],\n",
              " ['hw2p2'],\n",
              " ['quizzes'],\n",
              " ['hw2p2'],\n",
              " ['hw2p2'],\n",
              " ['hw2p2'],\n",
              " ['other', 'hw2p2'],\n",
              " ['hw2p2'],\n",
              " ['lectures'],\n",
              " ['quizzes'],\n",
              " ['hw2p2'],\n",
              " ['logistics'],\n",
              " ['lectures'],\n",
              " ['hw2p2'],\n",
              " ['hw2p2'],\n",
              " ['hw2p2'],\n",
              " ['hw2p1'],\n",
              " ['hw2p2'],\n",
              " ['hw2p2'],\n",
              " ['hw2p1'],\n",
              " ['hw2p2'],\n",
              " ['hw2p1'],\n",
              " ['hw2p2'],\n",
              " ['hw2p2'],\n",
              " ['hw2p1'],\n",
              " ['hw2p1'],\n",
              " ['hw2p2'],\n",
              " ['hw2p2'],\n",
              " ['hw2p2'],\n",
              " ['hw2p2'],\n",
              " ['hw2p2'],\n",
              " ['hw2p2'],\n",
              " ['other'],\n",
              " ['hw2p2'],\n",
              " ['logistics'],\n",
              " ['quizzes'],\n",
              " ['hw2p2'],\n",
              " ['other'],\n",
              " ['hw2p2'],\n",
              " ['hw2p2'],\n",
              " ['hw2p2'],\n",
              " ['hw2p2'],\n",
              " ['logistics'],\n",
              " ['hw2p1'],\n",
              " ['hw2p2'],\n",
              " ['hw2p2'],\n",
              " ['hw2p2'],\n",
              " ['hw2p2'],\n",
              " ['hw2p1'],\n",
              " ['hw2p1'],\n",
              " ['hw2p2'],\n",
              " ['hw2p2'],\n",
              " ['hw2p2'],\n",
              " ['hw2p1'],\n",
              " ['hw2p2'],\n",
              " ['other'],\n",
              " ['hw2p2'],\n",
              " ['hw2p2'],\n",
              " ['project'],\n",
              " ['hw2p2'],\n",
              " ['hw2p2'],\n",
              " ['hw1p2'],\n",
              " ['hw3p1'],\n",
              " ['hw2p1'],\n",
              " ['hw2p2'],\n",
              " ['hw2p2'],\n",
              " ['hw2p2'],\n",
              " ['hw2p2'],\n",
              " ['hw2p2'],\n",
              " ['hw2p2'],\n",
              " ['hw2p2'],\n",
              " ['hw2p2'],\n",
              " ['hw2p2'],\n",
              " ['hw2p2'],\n",
              " ['hw1p2'],\n",
              " ['logistics'],\n",
              " ['hw2p2'],\n",
              " ['hw2p2'],\n",
              " ['hw2p1'],\n",
              " ['hw2p2'],\n",
              " ['quizzes'],\n",
              " ['hw3p1'],\n",
              " ['hw2p2'],\n",
              " ['hw2p2'],\n",
              " ['hw2p2'],\n",
              " ['quizzes'],\n",
              " ...]"
            ]
          },
          "metadata": {},
          "execution_count": 29
        }
      ]
    },
    {
      "cell_type": "code",
      "source": [
        "len(labels),len(rmnan_pair),"
      ],
      "metadata": {
        "colab": {
          "base_uri": "https://localhost:8080/"
        },
        "id": "sJlhqNetJ7eJ",
        "outputId": "c92ade3d-0393-41f2-f3de-2d4d31483246"
      },
      "execution_count": 30,
      "outputs": [
        {
          "output_type": "execute_result",
          "data": {
            "text/plain": [
              "(9891, 9891)"
            ]
          },
          "metadata": {},
          "execution_count": 30
        }
      ]
    },
    {
      "cell_type": "code",
      "source": [
        "final_pair = []"
      ],
      "metadata": {
        "id": "sEp0HWjpRDx3"
      },
      "execution_count": 31,
      "outputs": []
    },
    {
      "cell_type": "code",
      "source": [
        "for i in range(len(labels)):\n",
        "  for j in range(len(labels[i])):\n",
        "    temp = dict()\n",
        "    temp['label'] = labels[i][j]\n",
        "    temp['question'] = rmnan_pair[i][2]\n",
        "    temp['answer'] = rmnan_pair[i][3]\n",
        "    final_pair.append(temp)"
      ],
      "metadata": {
        "id": "H4nXw5tNBQoR"
      },
      "execution_count": 32,
      "outputs": []
    },
    {
      "cell_type": "code",
      "source": [
        "final_pair[0]"
      ],
      "metadata": {
        "colab": {
          "base_uri": "https://localhost:8080/"
        },
        "id": "PO8wqWADwfGs",
        "outputId": "df5a81fb-f4c1-460a-f6f8-cb1d66a8e74a"
      },
      "execution_count": 33,
      "outputs": [
        {
          "output_type": "execute_result",
          "data": {
            "text/plain": [
              "{'label': 'other',\n",
              " 'question': 'I am still on the waiting list and why was I invited to join in piazza?',\n",
              " 'answer': \"We invited all students in both enrolled and waiting lists so that you'll not miss the notifications and instructions before your enrollment. We'll start posting instructions in the following days.\"}"
            ]
          },
          "metadata": {},
          "execution_count": 33
        }
      ]
    },
    {
      "cell_type": "code",
      "source": [
        "true_labels = []\n",
        "for i in range(len(final_pair)):\n",
        "  true_labels.append(final_pair[i]['label'])"
      ],
      "metadata": {
        "id": "sEoPpkVDLWHA"
      },
      "execution_count": 34,
      "outputs": []
    },
    {
      "cell_type": "code",
      "source": [
        "len(true_labels)"
      ],
      "metadata": {
        "colab": {
          "base_uri": "https://localhost:8080/"
        },
        "id": "av-PcLm-rh1A",
        "outputId": "f680eae0-4945-4d60-9c2a-4c8e8c8b45f7"
      },
      "execution_count": 35,
      "outputs": [
        {
          "output_type": "execute_result",
          "data": {
            "text/plain": [
              "10376"
            ]
          },
          "metadata": {},
          "execution_count": 35
        }
      ]
    },
    {
      "cell_type": "code",
      "source": [
        "dict_check = {}\n",
        "for key in true_labels:\n",
        "    dict_check[key] = dict_check.get(key, 0) + 1\n",
        "\n",
        "dict_check"
      ],
      "metadata": {
        "id": "2YE1_gnGp-iE",
        "colab": {
          "base_uri": "https://localhost:8080/"
        },
        "outputId": "bd580c41-593e-4e90-eb57-f98909d28951"
      },
      "execution_count": 36,
      "outputs": [
        {
          "output_type": "execute_result",
          "data": {
            "text/plain": [
              "{'other': 517,\n",
              " 'lectures': 340,\n",
              " 'logistics': 782,\n",
              " 'hw0': 421,\n",
              " 'project': 550,\n",
              " 'hw1p2': 696,\n",
              " 'quizzes': 616,\n",
              " 'hw1p1': 514,\n",
              " 'hw2p2': 516,\n",
              " 'useful_posts': 8,\n",
              " 'exam': 5,\n",
              " 'hw2p1': 410,\n",
              " 'hw3p1': 431,\n",
              " 'hw3p2': 467,\n",
              " 'hw4p1': 280,\n",
              " 'hw4p2': 479,\n",
              " 'recitations': 53,\n",
              " 'grading': 45,\n",
              " 'study_groups': 8,\n",
              " 'oh': 26,\n",
              " 'bonusq': 23,\n",
              " 'useful_notes': 1,\n",
              " 'lectures/concepts': 45,\n",
              " 'quiz': 166,\n",
              " 'hw2p2-s1': 147,\n",
              " 'hw2p2-s2': 77,\n",
              " 'bonus': 49,\n",
              " 'hw5': 73,\n",
              " 'project_defense': 2,\n",
              " 'class_polls': 9,\n",
              " 'hw1': 612,\n",
              " 'office_hours': 50,\n",
              " 'hw2': 730,\n",
              " 'hw3': 676,\n",
              " 'hw4': 437,\n",
              " 'useful': 9,\n",
              " 'lecture_polls': 5,\n",
              " 'interviews': 3,\n",
              " 'lecture-polls': 1,\n",
              " 'office-hours': 42,\n",
              " 'hw1p1-autogradbonus': 7,\n",
              " 'hw1p1bonus': 19,\n",
              " 'careers': 3,\n",
              " 'psc': 9,\n",
              " 'hw2p1bonus': 10,\n",
              " 'hw2p1-autogradbonus': 6,\n",
              " 'hw3p1-autogradbonus': 1}"
            ]
          },
          "metadata": {},
          "execution_count": 36
        }
      ]
    },
    {
      "cell_type": "code",
      "source": [
        "list1 = []  \n",
        "list2 = []\n",
        "for k,v in dict_check.items():\n",
        "    if v > 100:\n",
        "        list1.append(k)\n",
        "        list2.append(v)\n",
        "update = dict(zip(list1,list2))\n",
        "print(update) "
      ],
      "metadata": {
        "colab": {
          "base_uri": "https://localhost:8080/"
        },
        "id": "PkcVGvIntO06",
        "outputId": "dedfad2a-36f0-43b0-d8e1-0c356b7c31a6"
      },
      "execution_count": 37,
      "outputs": [
        {
          "output_type": "stream",
          "name": "stdout",
          "text": [
            "{'other': 517, 'lectures': 340, 'logistics': 782, 'hw0': 421, 'project': 550, 'hw1p2': 696, 'quizzes': 616, 'hw1p1': 514, 'hw2p2': 516, 'hw2p1': 410, 'hw3p1': 431, 'hw3p2': 467, 'hw4p1': 280, 'hw4p2': 479, 'quiz': 166, 'hw2p2-s1': 147, 'hw1': 612, 'hw2': 730, 'hw3': 676, 'hw4': 437}\n"
          ]
        }
      ]
    },
    {
      "cell_type": "code",
      "source": [
        "list_name = []\n",
        "\n",
        "for k,v in update.items():\n",
        "  list_name.append(k)"
      ],
      "metadata": {
        "id": "2eTylHOCtO4C"
      },
      "execution_count": 38,
      "outputs": []
    },
    {
      "cell_type": "code",
      "source": [
        "len(list_name)"
      ],
      "metadata": {
        "colab": {
          "base_uri": "https://localhost:8080/"
        },
        "id": "2J9bYGrTtO7R",
        "outputId": "29add524-c2b5-4c62-bb54-36b7337204b0"
      },
      "execution_count": 39,
      "outputs": [
        {
          "output_type": "execute_result",
          "data": {
            "text/plain": [
              "20"
            ]
          },
          "metadata": {},
          "execution_count": 39
        }
      ]
    },
    {
      "cell_type": "code",
      "source": [
        "row = ['question','answer']"
      ],
      "metadata": {
        "id": "Ai8kch6TtO-Y"
      },
      "execution_count": 40,
      "outputs": []
    },
    {
      "cell_type": "code",
      "source": [
        "import csv\n",
        "import random\n",
        "for i in range(len(list_name)):\n",
        "  idx = []\n",
        "  for j in range(len(final_pair)):\n",
        "        if final_pair[j]['label'] == list_name[i]:\n",
        "          idx.append(j)\n",
        "        n = len(idx)\n",
        "        seq = list(range(n))\n",
        "        train_idx = random.sample(seq,int(0.8*n))\n",
        "        test_idx = []\n",
        "        for id in seq:\n",
        "          if id not in train_idx:\n",
        "            test_idx.append(id)\n",
        "\n",
        "  filename_train = '/content/drive/MyDrive/11785_project/data/ret/train/' + list_name[i] + '_ret_train.tsv'\n",
        "  filename_test = '/content/drive/MyDrive/11785_project/data/ret/test/' + list_name[i] + '_ret_test.tsv'\n",
        "\n",
        "  with open(filename_train, 'w') as tsvfile1:\n",
        "      writer1 = csv.writer(tsvfile1, delimiter='\\t', lineterminator='\\n')\n",
        "      writer1.writerow(row)\n",
        "      for k in range(len(train_idx)):\n",
        "        temp_row = [final_pair[idx[train_idx[k]]]['question'], final_pair[idx[train_idx[k]]]['answer']]\n",
        "        writer1.writerow(temp_row)\n",
        "\n",
        "  with open(filename_test, 'w') as tsvfile2:\n",
        "      writer2 = csv.writer(tsvfile2, delimiter='\\t', lineterminator='\\n')\n",
        "      writer2.writerow(row)\n",
        "      for l in range(len(test_idx)):\n",
        "        temp_row = [final_pair[idx[test_idx[l]]]['question'], final_pair[idx[test_idx[l]]]['answer']]\n",
        "        writer2.writerow(temp_row)"
      ],
      "metadata": {
        "id": "IygoQCPFtPBY"
      },
      "execution_count": 41,
      "outputs": []
    }
  ]
}